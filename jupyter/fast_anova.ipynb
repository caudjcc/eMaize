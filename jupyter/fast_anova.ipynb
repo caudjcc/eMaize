{
 "cells": [
  {
   "cell_type": "code",
   "execution_count": 11,
   "metadata": {},
   "outputs": [
    {
     "name": "stdout",
     "output_type": "stream",
     "text": [
      "Populating the interactive namespace from numpy and matplotlib\n"
     ]
    }
   ],
   "source": [
    "%pylab inline"
   ]
  },
  {
   "cell_type": "code",
   "execution_count": 2,
   "metadata": {},
   "outputs": [
    {
     "name": "stdout",
     "output_type": "stream",
     "text": [
      "/Share/home/shibinbin/projects/emaize\n"
     ]
    }
   ],
   "source": [
    "cd .."
   ]
  },
  {
   "cell_type": "code",
   "execution_count": 3,
   "metadata": {
    "collapsed": true
   },
   "outputs": [],
   "source": [
    "import h5py"
   ]
  },
  {
   "cell_type": "code",
   "execution_count": 12,
   "metadata": {
    "collapsed": true
   },
   "outputs": [],
   "source": [
    "X = []\n",
    "with h5py.File('data/parent_genotype_2bit/all_matrix') as f:\n",
    "    X.append(f['X_female'][:])\n",
    "    X.append(f['X_male'][:])\n",
    "X = np.concatenate(X, axis=0)"
   ]
  },
  {
   "cell_type": "code",
   "execution_count": 24,
   "metadata": {
    "collapsed": true
   },
   "outputs": [],
   "source": [
    "random_trait = np.random.normal(size=X.shape[0])\n",
    "X_small = np.take(X, np.arange(10000), axis=1)"
   ]
  },
  {
   "cell_type": "code",
   "execution_count": 14,
   "metadata": {},
   "outputs": [
    {
     "data": {
      "text/plain": [
       "array([[1, 0, 1, ..., 0, 1, 1],\n",
       "       [1, 0, 1, ..., 1, 1, 0],\n",
       "       [1, 0, 1, ..., 0, 1, 1],\n",
       "       ..., \n",
       "       [1, 0, 1, ..., 0, 1, 0],\n",
       "       [1, 0, 1, ..., 0, 1, 0],\n",
       "       [1, 0, 1, ..., 0, 1, 0]], dtype=int8)"
      ]
     },
     "execution_count": 14,
     "metadata": {},
     "output_type": "execute_result"
    }
   ],
   "source": [
    "X_small"
   ]
  },
  {
   "cell_type": "code",
   "execution_count": 26,
   "metadata": {},
   "outputs": [
    {
     "name": "stderr",
     "output_type": "stream",
     "text": [
      "/Share/home/shibinbin/apps/anaconda2/lib/python2.7/site-packages/ipykernel/__main__.py:16: RuntimeWarning: invalid value encountered in divide\n",
      "/Share/home/shibinbin/apps/anaconda2/lib/python2.7/site-packages/ipykernel/__main__.py:22: RuntimeWarning: divide by zero encountered in divide\n"
     ]
    }
   ],
   "source": [
    "import scipy.stats\n",
    "def fast_anova_2bit(X, y):\n",
    "    y = y - y.mean()\n",
    "    y2 = y*y\n",
    "    N = X.shape[0]\n",
    "    SS_tot = np.sum(y2)\n",
    "    # 10, 01, 11\n",
    "    masks = [np.logical_and(X[:, 0::2], np.logical_not(X[:, 1::2])),\n",
    "             np.logical_and(np.logical_not(X[:, 0::2]), X[:, 1::2]),\n",
    "             np.logical_and(X[:, 0::2], X[:, 1::2])]\n",
    "    Ni = np.concatenate([np.sum(mask, axis=0) for mask in masks]).reshape((3, -1))\n",
    "    at_least_one = Ni > 0\n",
    "    SS_bn = [np.sum(y.reshape((-1, 1))*mask, axis=0) for mask in masks]\n",
    "    SS_bn = np.concatenate(SS_bn).reshape((3, -1))\n",
    "    SS_bn **= 2\n",
    "    SS_bn = np.where(at_least_one, SS_bn/Ni, 0)\n",
    "    SS_bn = np.sum(SS_bn, axis=0)\n",
    "    SS_wn = SS_tot - SS_bn\n",
    "    M = np.sum(at_least_one, axis=0)\n",
    "    DF_bn = M - 1\n",
    "    DF_wn = N - M\n",
    "    SS_bn /= DF_bn\n",
    "    SS_wn /= DF_wn\n",
    "    F = SS_bn/SS_wn\n",
    "    \n",
    "    p_vals = np.ones(F.shape[0])\n",
    "    ind = np.nonzero(M == 2)[0]\n",
    "    if ind.shape[0] > 0:\n",
    "        p_vals[ind] = scipy.stats.f.sf(F[ind], 1, N - 2)\n",
    "    ind = np.nonzero(M == 3)[0]\n",
    "    if ind.shape[0] > 0:\n",
    "        p_vals[ind] = scipy.stats.f.sf(F[ind], 2, N - 3)\n",
    "    return F, p_vals\n",
    "\n",
    "F_fast, pvals_fast = fast_anova_2bit(X_small, random_trait)"
   ]
  },
  {
   "cell_type": "code",
   "execution_count": 37,
   "metadata": {},
   "outputs": [],
   "source": [
    "def anova(X, y):\n",
    "    masks = [np.logical_and(X[:, 0::2], np.logical_not(X[:, 1::2])),\n",
    "             np.logical_and(np.logical_not(X[:, 0::2]), X[:, 1::2]),\n",
    "             np.logical_and(X[:, 0::2], X[:, 1::2])]\n",
    "    N = X.shape[1]/2\n",
    "    Fs = np.full(N, np.nan)\n",
    "    pvals = np.full(N, np.nan)\n",
    "    for i in range(X.shape[1]/2):\n",
    "        samples = []\n",
    "        for j in range(3):\n",
    "            mask = masks[j][:, i]\n",
    "            if np.sum(mask) > 0:\n",
    "                samples.append(y[mask])\n",
    "        if len(samples) > 1:\n",
    "            Fs[i], pvals[i] = scipy.stats.f_oneway(*samples)\n",
    "    return Fs, pvals\n",
    "F, pvals = anova(X_small, random_trait)"
   ]
  },
  {
   "cell_type": "code",
   "execution_count": 38,
   "metadata": {},
   "outputs": [
    {
     "data": {
      "text/plain": [
       "True"
      ]
     },
     "execution_count": 38,
     "metadata": {},
     "output_type": "execute_result"
    }
   ],
   "source": [
    "not_nan_mask = ~np.isnan(F)\n",
    "np.allclose(pvals_fast[not_nan_mask], pvals[not_nan_mask])"
   ]
  },
  {
   "cell_type": "code",
   "execution_count": 39,
   "metadata": {},
   "outputs": [
    {
     "data": {
      "text/plain": [
       "True"
      ]
     },
     "execution_count": 39,
     "metadata": {},
     "output_type": "execute_result"
    }
   ],
   "source": [
    "not_nan_mask = ~np.isnan(F)\n",
    "np.allclose(F_fast[not_nan_mask], F[not_nan_mask])"
   ]
  },
  {
   "cell_type": "code",
   "execution_count": null,
   "metadata": {
    "collapsed": true
   },
   "outputs": [],
   "source": []
  }
 ],
 "metadata": {
  "anaconda-cloud": {},
  "kernelspec": {
   "display_name": "Python [default]",
   "language": "python",
   "name": "python2"
  },
  "language_info": {
   "codemirror_mode": {
    "name": "ipython",
    "version": 2
   },
   "file_extension": ".py",
   "mimetype": "text/x-python",
   "name": "python",
   "nbconvert_exporter": "python",
   "pygments_lexer": "ipython2",
   "version": "2.7.12"
  }
 },
 "nbformat": 4,
 "nbformat_minor": 1
}
