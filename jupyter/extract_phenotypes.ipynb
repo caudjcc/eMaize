{
 "cells": [
  {
   "cell_type": "code",
   "execution_count": 1,
   "metadata": {},
   "outputs": [
    {
     "name": "stdout",
     "output_type": "stream",
     "text": [
      "Populating the interactive namespace from numpy and matplotlib\n"
     ]
    }
   ],
   "source": [
    "%pylab inline"
   ]
  },
  {
   "cell_type": "code",
   "execution_count": 2,
   "metadata": {},
   "outputs": [
    {
     "name": "stderr",
     "output_type": "stream",
     "text": [
      "/dev/shm/shibinbin/anaconda2/lib/python2.7/site-packages/numexpr/cpuinfo.py:42: UserWarning: [Errno 2] No such file or directory\n",
      "  warnings.warn(str(e), UserWarning, stacklevel=stacklevel)\n"
     ]
    }
   ],
   "source": [
    "import pandas as pd\n",
    "import h5py"
   ]
  },
  {
   "cell_type": "code",
   "execution_count": 3,
   "metadata": {},
   "outputs": [
    {
     "name": "stdout",
     "output_type": "stream",
     "text": [
      "/Share/home/shibinbin/projects/emaize\n"
     ]
    }
   ],
   "source": [
    "cd .."
   ]
  },
  {
   "cell_type": "code",
   "execution_count": 4,
   "metadata": {
    "collapsed": true
   },
   "outputs": [],
   "source": [
    "def generate_parent_table(phenotype_file):\n",
    "    phenotypes = pd.read_table(phenotype_file)\n",
    "    pedigree = phenotypes['pedigree'].str.split('_', expand=True)\n",
    "    pedigree.columns = ['f', 'X', 'm']\n",
    "    phenotypes = pd.concat([phenotypes, pedigree], axis=1)\n",
    "    phenotypes['number'] = np.arange(phenotypes.shape[0])\n",
    "    parent_table = phenotypes.pivot_table(values='number', index=['m'], columns=['f'], dropna=False)\n",
    "    male_ids = ['m%d' % i for i in range(1, parent_table.shape[0] + 1)]\n",
    "    female_ids = ['f%d' % i for i in range(1, parent_table.shape[1] + 1)]\n",
    "    parent_table = parent_table.loc[male_ids, female_ids]\n",
    "    return parent_table"
   ]
  },
  {
   "cell_type": "code",
   "execution_count": 5,
   "metadata": {
    "collapsed": true
   },
   "outputs": [],
   "source": [
    "parent_table = generate_parent_table('emaize_data/phenotype/pheno_emaize.txt')"
   ]
  },
  {
   "cell_type": "code",
   "execution_count": 6,
   "metadata": {},
   "outputs": [
    {
     "data": {
      "text/html": [
       "<div>\n",
       "<style>\n",
       "    .dataframe thead tr:only-child th {\n",
       "        text-align: right;\n",
       "    }\n",
       "\n",
       "    .dataframe thead th {\n",
       "        text-align: left;\n",
       "    }\n",
       "\n",
       "    .dataframe tbody tr th {\n",
       "        vertical-align: top;\n",
       "    }\n",
       "</style>\n",
       "<table border=\"1\" class=\"dataframe\">\n",
       "  <thead>\n",
       "    <tr style=\"text-align: right;\">\n",
       "      <th>f</th>\n",
       "      <th>f1</th>\n",
       "      <th>f2</th>\n",
       "      <th>f3</th>\n",
       "      <th>f4</th>\n",
       "      <th>f5</th>\n",
       "      <th>f6</th>\n",
       "      <th>f7</th>\n",
       "      <th>f8</th>\n",
       "      <th>f9</th>\n",
       "      <th>f10</th>\n",
       "      <th>...</th>\n",
       "      <th>f198</th>\n",
       "      <th>f199</th>\n",
       "      <th>f200</th>\n",
       "      <th>f201</th>\n",
       "      <th>f202</th>\n",
       "      <th>f203</th>\n",
       "      <th>f204</th>\n",
       "      <th>f205</th>\n",
       "      <th>f206</th>\n",
       "      <th>f207</th>\n",
       "    </tr>\n",
       "    <tr>\n",
       "      <th>m</th>\n",
       "      <th></th>\n",
       "      <th></th>\n",
       "      <th></th>\n",
       "      <th></th>\n",
       "      <th></th>\n",
       "      <th></th>\n",
       "      <th></th>\n",
       "      <th></th>\n",
       "      <th></th>\n",
       "      <th></th>\n",
       "      <th></th>\n",
       "      <th></th>\n",
       "      <th></th>\n",
       "      <th></th>\n",
       "      <th></th>\n",
       "      <th></th>\n",
       "      <th></th>\n",
       "      <th></th>\n",
       "      <th></th>\n",
       "      <th></th>\n",
       "      <th></th>\n",
       "    </tr>\n",
       "  </thead>\n",
       "  <tbody>\n",
       "    <tr>\n",
       "      <th>m1</th>\n",
       "      <td>0</td>\n",
       "      <td>1</td>\n",
       "      <td>2</td>\n",
       "      <td>3</td>\n",
       "      <td>4</td>\n",
       "      <td>5</td>\n",
       "      <td>6</td>\n",
       "      <td>7</td>\n",
       "      <td>8</td>\n",
       "      <td>9</td>\n",
       "      <td>...</td>\n",
       "      <td>4762</td>\n",
       "      <td>4764</td>\n",
       "      <td>4756</td>\n",
       "      <td>4761</td>\n",
       "      <td>4763</td>\n",
       "      <td>5050</td>\n",
       "      <td>5051</td>\n",
       "      <td>5052</td>\n",
       "      <td>5053</td>\n",
       "      <td>5054</td>\n",
       "    </tr>\n",
       "    <tr>\n",
       "      <th>m2</th>\n",
       "      <td>191</td>\n",
       "      <td>192</td>\n",
       "      <td>193</td>\n",
       "      <td>195</td>\n",
       "      <td>196</td>\n",
       "      <td>197</td>\n",
       "      <td>198</td>\n",
       "      <td>199</td>\n",
       "      <td>200</td>\n",
       "      <td>201</td>\n",
       "      <td>...</td>\n",
       "      <td>333</td>\n",
       "      <td>379</td>\n",
       "      <td>4767</td>\n",
       "      <td>4768</td>\n",
       "      <td>4777</td>\n",
       "      <td>5055</td>\n",
       "      <td>5056</td>\n",
       "      <td>5057</td>\n",
       "      <td>5058</td>\n",
       "      <td>5059</td>\n",
       "    </tr>\n",
       "    <tr>\n",
       "      <th>m3</th>\n",
       "      <td>380</td>\n",
       "      <td>381</td>\n",
       "      <td>382</td>\n",
       "      <td>384</td>\n",
       "      <td>385</td>\n",
       "      <td>386</td>\n",
       "      <td>387</td>\n",
       "      <td>388</td>\n",
       "      <td>389</td>\n",
       "      <td>390</td>\n",
       "      <td>...</td>\n",
       "      <td>520</td>\n",
       "      <td>569</td>\n",
       "      <td>442</td>\n",
       "      <td>4786</td>\n",
       "      <td>4789</td>\n",
       "      <td>5060</td>\n",
       "      <td>5061</td>\n",
       "      <td>5062</td>\n",
       "      <td>5063</td>\n",
       "      <td>5064</td>\n",
       "    </tr>\n",
       "    <tr>\n",
       "      <th>m4</th>\n",
       "      <td>570</td>\n",
       "      <td>571</td>\n",
       "      <td>572</td>\n",
       "      <td>574</td>\n",
       "      <td>575</td>\n",
       "      <td>576</td>\n",
       "      <td>577</td>\n",
       "      <td>578</td>\n",
       "      <td>579</td>\n",
       "      <td>580</td>\n",
       "      <td>...</td>\n",
       "      <td>4797</td>\n",
       "      <td>4802</td>\n",
       "      <td>633</td>\n",
       "      <td>4796</td>\n",
       "      <td>4800</td>\n",
       "      <td>5065</td>\n",
       "      <td>5066</td>\n",
       "      <td>5067</td>\n",
       "      <td>5068</td>\n",
       "      <td>5069</td>\n",
       "    </tr>\n",
       "    <tr>\n",
       "      <th>m5</th>\n",
       "      <td>759</td>\n",
       "      <td>760</td>\n",
       "      <td>761</td>\n",
       "      <td>763</td>\n",
       "      <td>764</td>\n",
       "      <td>765</td>\n",
       "      <td>766</td>\n",
       "      <td>767</td>\n",
       "      <td>768</td>\n",
       "      <td>769</td>\n",
       "      <td>...</td>\n",
       "      <td>901</td>\n",
       "      <td>4814</td>\n",
       "      <td>4805</td>\n",
       "      <td>835</td>\n",
       "      <td>4813</td>\n",
       "      <td>5277</td>\n",
       "      <td>5278</td>\n",
       "      <td>5279</td>\n",
       "      <td>5280</td>\n",
       "      <td>5281</td>\n",
       "    </tr>\n",
       "  </tbody>\n",
       "</table>\n",
       "<p>5 rows × 207 columns</p>\n",
       "</div>"
      ],
      "text/plain": [
       "f    f1   f2   f3   f4   f5   f6   f7   f8   f9  f10  ...   f198  f199  f200  \\\n",
       "m                                                     ...                      \n",
       "m1    0    1    2    3    4    5    6    7    8    9  ...   4762  4764  4756   \n",
       "m2  191  192  193  195  196  197  198  199  200  201  ...    333   379  4767   \n",
       "m3  380  381  382  384  385  386  387  388  389  390  ...    520   569   442   \n",
       "m4  570  571  572  574  575  576  577  578  579  580  ...   4797  4802   633   \n",
       "m5  759  760  761  763  764  765  766  767  768  769  ...    901  4814  4805   \n",
       "\n",
       "f   f201  f202  f203  f204  f205  f206  f207  \n",
       "m                                             \n",
       "m1  4761  4763  5050  5051  5052  5053  5054  \n",
       "m2  4768  4777  5055  5056  5057  5058  5059  \n",
       "m3  4786  4789  5060  5061  5062  5063  5064  \n",
       "m4  4796  4800  5065  5066  5067  5068  5069  \n",
       "m5   835  4813  5277  5278  5279  5280  5281  \n",
       "\n",
       "[5 rows x 207 columns]"
      ]
     },
     "execution_count": 6,
     "metadata": {},
     "output_type": "execute_result"
    }
   ],
   "source": [
    "parent_table.head()"
   ]
  },
  {
   "cell_type": "code",
   "execution_count": 7,
   "metadata": {
    "collapsed": true
   },
   "outputs": [],
   "source": [
    "phenotypes = pd.read_table('emaize_data/phenotype/pheno_emaize.txt')"
   ]
  },
  {
   "cell_type": "code",
   "execution_count": 8,
   "metadata": {},
   "outputs": [
    {
     "data": {
      "text/html": [
       "<div>\n",
       "<style>\n",
       "    .dataframe thead tr:only-child th {\n",
       "        text-align: right;\n",
       "    }\n",
       "\n",
       "    .dataframe thead th {\n",
       "        text-align: left;\n",
       "    }\n",
       "\n",
       "    .dataframe tbody tr th {\n",
       "        vertical-align: top;\n",
       "    }\n",
       "</style>\n",
       "<table border=\"1\" class=\"dataframe\">\n",
       "  <thead>\n",
       "    <tr style=\"text-align: right;\">\n",
       "      <th></th>\n",
       "      <th>type</th>\n",
       "      <th>id</th>\n",
       "      <th>pedigree</th>\n",
       "      <th>trait1</th>\n",
       "      <th>trait2</th>\n",
       "      <th>trait3</th>\n",
       "    </tr>\n",
       "  </thead>\n",
       "  <tbody>\n",
       "    <tr>\n",
       "      <th>0</th>\n",
       "      <td>training</td>\n",
       "      <td>L0001</td>\n",
       "      <td>f1_X_m1</td>\n",
       "      <td>-1.746103</td>\n",
       "      <td>-0.785525</td>\n",
       "      <td>-0.331637</td>\n",
       "    </tr>\n",
       "    <tr>\n",
       "      <th>1</th>\n",
       "      <td>training</td>\n",
       "      <td>L0002</td>\n",
       "      <td>f2_X_m1</td>\n",
       "      <td>-1.679248</td>\n",
       "      <td>-1.569490</td>\n",
       "      <td>-2.572614</td>\n",
       "    </tr>\n",
       "    <tr>\n",
       "      <th>2</th>\n",
       "      <td>training</td>\n",
       "      <td>L0003</td>\n",
       "      <td>f3_X_m1</td>\n",
       "      <td>-2.748920</td>\n",
       "      <td>-0.608644</td>\n",
       "      <td>-1.108812</td>\n",
       "    </tr>\n",
       "    <tr>\n",
       "      <th>3</th>\n",
       "      <td>training</td>\n",
       "      <td>L0004</td>\n",
       "      <td>f4_X_m1</td>\n",
       "      <td>-2.414647</td>\n",
       "      <td>-0.672045</td>\n",
       "      <td>-1.315051</td>\n",
       "    </tr>\n",
       "    <tr>\n",
       "      <th>4</th>\n",
       "      <td>training</td>\n",
       "      <td>L0005</td>\n",
       "      <td>f5_X_m1</td>\n",
       "      <td>-1.879812</td>\n",
       "      <td>-0.740913</td>\n",
       "      <td>-1.879181</td>\n",
       "    </tr>\n",
       "  </tbody>\n",
       "</table>\n",
       "</div>"
      ],
      "text/plain": [
       "       type     id pedigree    trait1    trait2    trait3\n",
       "0  training  L0001  f1_X_m1 -1.746103 -0.785525 -0.331637\n",
       "1  training  L0002  f2_X_m1 -1.679248 -1.569490 -2.572614\n",
       "2  training  L0003  f3_X_m1 -2.748920 -0.608644 -1.108812\n",
       "3  training  L0004  f4_X_m1 -2.414647 -0.672045 -1.315051\n",
       "4  training  L0005  f5_X_m1 -1.879812 -0.740913 -1.879181"
      ]
     },
     "execution_count": 8,
     "metadata": {},
     "output_type": "execute_result"
    }
   ],
   "source": [
    "phenotypes.head()"
   ]
  },
  {
   "cell_type": "code",
   "execution_count": 26,
   "metadata": {},
   "outputs": [
    {
     "data": {
      "text/plain": [
       "<matplotlib.image.AxesImage at 0x2b33734c3a90>"
      ]
     },
     "execution_count": 26,
     "metadata": {},
     "output_type": "execute_result"
    },
    {
     "data": {
      "image/png": "[encoded data removed]",
      "text/plain": [
       "<matplotlib.figure.Figure at 0x2b33733d2890>"
      ]
     },
     "metadata": {},
     "output_type": "display_data"
    }
   ],
   "source": [
    "matshow(y['trait1'], cmap=cm.RdBu)"
   ]
  },
  {
   "cell_type": "code",
   "execution_count": 13,
   "metadata": {
    "collapsed": true
   },
   "outputs": [],
   "source": [
    "y = {}\n",
    "for trait in ('trait1', 'trait2', 'trait3'):\n",
    "    y[trait] = np.take(phenotypes[trait].values, parent_table)"
   ]
  },
  {
   "cell_type": "code",
   "execution_count": 35,
   "metadata": {},
   "outputs": [
    {
     "data": {
      "text/plain": [
       "<matplotlib.figure.Figure at 0x2ad613b3b8d0>"
      ]
     },
     "metadata": {},
     "output_type": "display_data"
    }
   ],
   "source": [
    "from matplotlib.backends.backend_pdf import PdfPages\n",
    "with PdfPages('tmp/phenotypes_heatmap.pdf') as pdf:\n",
    "    for i in range(1, 4):\n",
    "        plt.clf()\n",
    "        fig, ax = plt.subplots(figsize=(18, 3))\n",
    "        phenotype_matrix = np.take(np.ravel(phenotypes['trait%d'%i].values), parent_table)\n",
    "        image = ax.matshow(phenotype_matrix, cmap=cm.RdBu_r)\n",
    "        ax.set_title('Phenotypes of training data (trait%d)'%i)\n",
    "        plt.colorbar(image)\n",
    "        plt.tight_layout()\n",
    "        pdf.savefig(fig)\n",
    "        plt.close(fig)\n",
    "        #np.savetxt(phenotype_matrix, )"
   ]
  },
  {
   "cell_type": "code",
   "execution_count": 34,
   "metadata": {
    "collapsed": true
   },
   "outputs": [],
   "source": [
    "ax.imshow?"
   ]
  },
  {
   "cell_type": "code",
   "execution_count": null,
   "metadata": {
    "collapsed": true
   },
   "outputs": [],
   "source": []
  },
  {
   "cell_type": "code",
   "execution_count": 32,
   "metadata": {},
   "outputs": [
    {
     "name": "stderr",
     "output_type": "stream",
     "text": [
      "/Share/home/shibinbin/apps/anaconda2/lib/python2.7/site-packages/ipykernel/__main__.py:5: RuntimeWarning: invalid value encountered in divide\n",
      "/Share/home/shibinbin/apps/anaconda2/lib/python2.7/site-packages/ipykernel/__main__.py:8: RuntimeWarning: invalid value encountered in divide\n"
     ]
    }
   ],
   "source": [
    "y_female = {}\n",
    "y_male = {}\n",
    "for trait in y.keys():\n",
    "    n_valid_male = np.sum(np.logical_not(np.isnan(y[trait])), axis=0)\n",
    "    y_female[trait] = np.mean(nan_to_num(y[trait]), axis=0)/n_valid_male\n",
    "    y_female[trait][-5:] = np.nan\n",
    "    n_valid_female = np.sum(np.logical_not(np.isnan(y[trait])), axis=1)\n",
    "    y_male[trait] = np.mean(nan_to_num(y[trait]), axis=1)/n_valid_female\n",
    "    y_male[trait][-5:] = np.nan"
   ]
  },
  {
   "cell_type": "code",
   "execution_count": 25,
   "metadata": {},
   "outputs": [
    {
     "data": {
      "text/plain": [
       "<matplotlib.image.AxesImage at 0x2b3373413950>"
      ]
     },
     "execution_count": 25,
     "metadata": {},
     "output_type": "execute_result"
    },
    {
     "data": {
      "image/png": "[encoded data removed]",
      "text/plain": [
       "<matplotlib.figure.Figure at 0x2b3373378910>"
      ]
     },
     "metadata": {},
     "output_type": "display_data"
    }
   ],
   "source": [
    "matshow(y_female['trait1'].reshape((1, -1)), cmap=cm.RdBu)"
   ]
  },
  {
   "cell_type": "code",
   "execution_count": 29,
   "metadata": {},
   "outputs": [
    {
     "data": {
      "text/plain": [
       "<matplotlib.image.AxesImage at 0x2b33736df710>"
      ]
     },
     "execution_count": 29,
     "metadata": {},
     "output_type": "execute_result"
    },
    {
     "data": {
      "image/png": "[encoded data removed]",
      "text/plain": [
       "<matplotlib.figure.Figure at 0x2b337365b190>"
      ]
     },
     "metadata": {},
     "output_type": "display_data"
    }
   ],
   "source": [
    "matshow(y_male['trait1'].reshape((1, -1)), cmap=cm.RdBu)"
   ]
  },
  {
   "cell_type": "code",
   "execution_count": 35,
   "metadata": {
    "collapsed": true
   },
   "outputs": [],
   "source": [
    "with h5py.File('data/phenotypes/parent', 'w') as f:\n",
    "    g = f.create_group('female')\n",
    "    for trait in y_female.keys():\n",
    "        g.create_dataset(trait, data=y_female[trait])\n",
    "    g = f.create_group('male')\n",
    "    for trait in y_male.keys():\n",
    "        g.create_dataset(trait, data=y_male[trait])"
   ]
  },
  {
   "cell_type": "code",
   "execution_count": 34,
   "metadata": {
    "collapsed": true
   },
   "outputs": [],
   "source": [
    "with h5py.File('tmp/parent_phenotypes_indices.h5', 'w') as f:\n",
    "    f.create_dataset('female', data=np.nonzero(np.logical_not(np.isnan(y_female['trait1'])))[0])\n",
    "    f.create_dataset('male', data=np.nonzero(np.logical_not(np.isnan(y_male['trait1'])))[0])"
   ]
  },
  {
   "cell_type": "code",
   "execution_count": null,
   "metadata": {
    "collapsed": true
   },
   "outputs": [],
   "source": []
  }
 ],
 "metadata": {
  "anaconda-cloud": {},
  "kernelspec": {
   "display_name": "Python 2",
   "language": "python",
   "name": "python2"
  },
  "language_info": {
   "codemirror_mode": {
    "name": "ipython",
    "version": 2
   },
   "file_extension": ".py",
   "mimetype": "text/x-python",
   "name": "python",
   "nbconvert_exporter": "python",
   "pygments_lexer": "ipython2",
   "version": "2.7.13"
  }
 },
 "nbformat": 4,
 "nbformat_minor": 1
}
