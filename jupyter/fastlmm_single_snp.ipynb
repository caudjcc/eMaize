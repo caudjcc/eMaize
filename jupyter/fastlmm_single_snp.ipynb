{
 "cells": [
  {
   "cell_type": "code",
   "execution_count": 1,
   "metadata": {},
   "outputs": [
    {
     "name": "stdout",
     "output_type": "stream",
     "text": [
      "Populating the interactive namespace from numpy and matplotlib\n"
     ]
    }
   ],
   "source": [
    "%pylab inline"
   ]
  },
  {
   "cell_type": "code",
   "execution_count": 2,
   "metadata": {},
   "outputs": [
    {
     "name": "stdout",
     "output_type": "stream",
     "text": [
      "/Share/home/shibinbin/projects/emaize\n"
     ]
    }
   ],
   "source": [
    "cd .."
   ]
  },
  {
   "cell_type": "code",
   "execution_count": 3,
   "metadata": {},
   "outputs": [
    {
     "name": "stderr",
     "output_type": "stream",
     "text": [
      "/dev/shm/shibinbin/anaconda2/lib/python2.7/site-packages/numexpr/cpuinfo.py:42: UserWarning: [Errno 2] No such file or directory\n",
      "  warnings.warn(str(e), UserWarning, stacklevel=stacklevel)\n"
     ]
    }
   ],
   "source": [
    "import pandas as pd"
   ]
  },
  {
   "cell_type": "code",
   "execution_count": 4,
   "metadata": {
    "collapsed": true
   },
   "outputs": [],
   "source": [
    "results = pd.read_hdf('output/fastlmm/result.trait1')"
   ]
  },
  {
   "cell_type": "code",
   "execution_count": 5,
   "metadata": {},
   "outputs": [
    {
     "data": {
      "text/html": [
       "<div>\n",
       "<style>\n",
       "    .dataframe thead tr:only-child th {\n",
       "        text-align: right;\n",
       "    }\n",
       "\n",
       "    .dataframe thead th {\n",
       "        text-align: left;\n",
       "    }\n",
       "\n",
       "    .dataframe tbody tr th {\n",
       "        vertical-align: top;\n",
       "    }\n",
       "</style>\n",
       "<table border=\"1\" class=\"dataframe\">\n",
       "  <thead>\n",
       "    <tr style=\"text-align: right;\">\n",
       "      <th></th>\n",
       "      <th>sid_index</th>\n",
       "      <th>SNP</th>\n",
       "      <th>Chr</th>\n",
       "      <th>GenDist</th>\n",
       "      <th>ChrPos</th>\n",
       "      <th>PValue</th>\n",
       "      <th>SnpWeight</th>\n",
       "      <th>SnpWeightSE</th>\n",
       "      <th>SnpFractVarExpl</th>\n",
       "      <th>Mixing</th>\n",
       "      <th>Nullh2</th>\n",
       "    </tr>\n",
       "  </thead>\n",
       "  <tbody>\n",
       "    <tr>\n",
       "      <th>0</th>\n",
       "      <td>8212</td>\n",
       "      <td>15194965</td>\n",
       "      <td>8.0</td>\n",
       "      <td>0.0</td>\n",
       "      <td>15194965.0</td>\n",
       "      <td>7.960012e-25</td>\n",
       "      <td>0.654069</td>\n",
       "      <td>0.063104</td>\n",
       "      <td>0.170044</td>\n",
       "      <td>0.0</td>\n",
       "      <td>0.868401</td>\n",
       "    </tr>\n",
       "    <tr>\n",
       "      <th>1</th>\n",
       "      <td>5307</td>\n",
       "      <td>75530826</td>\n",
       "      <td>6.0</td>\n",
       "      <td>0.0</td>\n",
       "      <td>75530826.0</td>\n",
       "      <td>2.283095e-24</td>\n",
       "      <td>0.642006</td>\n",
       "      <td>0.062569</td>\n",
       "      <td>0.168383</td>\n",
       "      <td>0.0</td>\n",
       "      <td>0.868172</td>\n",
       "    </tr>\n",
       "    <tr>\n",
       "      <th>2</th>\n",
       "      <td>1521</td>\n",
       "      <td>8364656</td>\n",
       "      <td>10.0</td>\n",
       "      <td>0.0</td>\n",
       "      <td>8364656.0</td>\n",
       "      <td>5.379994e-24</td>\n",
       "      <td>0.639408</td>\n",
       "      <td>0.062840</td>\n",
       "      <td>0.167019</td>\n",
       "      <td>0.0</td>\n",
       "      <td>0.868867</td>\n",
       "    </tr>\n",
       "    <tr>\n",
       "      <th>3</th>\n",
       "      <td>4418</td>\n",
       "      <td>156687245</td>\n",
       "      <td>1.0</td>\n",
       "      <td>0.0</td>\n",
       "      <td>156687245.0</td>\n",
       "      <td>2.760619e-23</td>\n",
       "      <td>0.625287</td>\n",
       "      <td>0.062465</td>\n",
       "      <td>0.164384</td>\n",
       "      <td>0.0</td>\n",
       "      <td>0.866765</td>\n",
       "    </tr>\n",
       "    <tr>\n",
       "      <th>4</th>\n",
       "      <td>4003</td>\n",
       "      <td>24107290</td>\n",
       "      <td>3.0</td>\n",
       "      <td>0.0</td>\n",
       "      <td>24107290.0</td>\n",
       "      <td>1.334810e-22</td>\n",
       "      <td>0.628513</td>\n",
       "      <td>0.063817</td>\n",
       "      <td>0.161803</td>\n",
       "      <td>0.0</td>\n",
       "      <td>0.868496</td>\n",
       "    </tr>\n",
       "  </tbody>\n",
       "</table>\n",
       "</div>"
      ],
      "text/plain": [
       "   sid_index        SNP   Chr  GenDist       ChrPos        PValue  SnpWeight  \\\n",
       "0       8212   15194965   8.0      0.0   15194965.0  7.960012e-25   0.654069   \n",
       "1       5307   75530826   6.0      0.0   75530826.0  2.283095e-24   0.642006   \n",
       "2       1521    8364656  10.0      0.0    8364656.0  5.379994e-24   0.639408   \n",
       "3       4418  156687245   1.0      0.0  156687245.0  2.760619e-23   0.625287   \n",
       "4       4003   24107290   3.0      0.0   24107290.0  1.334810e-22   0.628513   \n",
       "\n",
       "   SnpWeightSE  SnpFractVarExpl  Mixing    Nullh2  \n",
       "0     0.063104         0.170044     0.0  0.868401  \n",
       "1     0.062569         0.168383     0.0  0.868172  \n",
       "2     0.062840         0.167019     0.0  0.868867  \n",
       "3     0.062465         0.164384     0.0  0.866765  \n",
       "4     0.063817         0.161803     0.0  0.868496  "
      ]
     },
     "execution_count": 5,
     "metadata": {},
     "output_type": "execute_result"
    }
   ],
   "source": [
    "results.head()"
   ]
  },
  {
   "cell_type": "code",
   "execution_count": 9,
   "metadata": {},
   "outputs": [
    {
     "data": {
      "text/html": [
       "<div>\n",
       "<style>\n",
       "    .dataframe thead tr:only-child th {\n",
       "        text-align: right;\n",
       "    }\n",
       "\n",
       "    .dataframe thead th {\n",
       "        text-align: left;\n",
       "    }\n",
       "\n",
       "    .dataframe tbody tr th {\n",
       "        vertical-align: top;\n",
       "    }\n",
       "</style>\n",
       "<table border=\"1\" class=\"dataframe\">\n",
       "  <thead>\n",
       "    <tr style=\"text-align: right;\">\n",
       "      <th></th>\n",
       "      <th>sid_index</th>\n",
       "      <th>SNP</th>\n",
       "      <th>Chr</th>\n",
       "      <th>GenDist</th>\n",
       "      <th>ChrPos</th>\n",
       "      <th>PValue</th>\n",
       "      <th>SnpWeight</th>\n",
       "      <th>SnpWeightSE</th>\n",
       "      <th>SnpFractVarExpl</th>\n",
       "      <th>Mixing</th>\n",
       "      <th>Nullh2</th>\n",
       "    </tr>\n",
       "  </thead>\n",
       "  <tbody>\n",
       "    <tr>\n",
       "      <th>99996</th>\n",
       "      <td>6168</td>\n",
       "      <td>174418358</td>\n",
       "      <td>4.0</td>\n",
       "      <td>0.0</td>\n",
       "      <td>174418358.0</td>\n",
       "      <td>0.999984</td>\n",
       "      <td>1.019550e-06</td>\n",
       "      <td>0.050940</td>\n",
       "      <td>3.332093e-07</td>\n",
       "      <td>0.0</td>\n",
       "      <td>0.870638</td>\n",
       "    </tr>\n",
       "    <tr>\n",
       "      <th>99997</th>\n",
       "      <td>4683</td>\n",
       "      <td>137398567</td>\n",
       "      <td>10.0</td>\n",
       "      <td>0.0</td>\n",
       "      <td>137398567.0</td>\n",
       "      <td>0.999985</td>\n",
       "      <td>-6.513108e-07</td>\n",
       "      <td>0.035761</td>\n",
       "      <td>3.032146e-07</td>\n",
       "      <td>0.0</td>\n",
       "      <td>0.868867</td>\n",
       "    </tr>\n",
       "    <tr>\n",
       "      <th>99998</th>\n",
       "      <td>14920</td>\n",
       "      <td>219416188</td>\n",
       "      <td>1.0</td>\n",
       "      <td>0.0</td>\n",
       "      <td>219416188.0</td>\n",
       "      <td>0.999988</td>\n",
       "      <td>9.268014e-07</td>\n",
       "      <td>0.060890</td>\n",
       "      <td>2.533986e-07</td>\n",
       "      <td>0.0</td>\n",
       "      <td>0.866765</td>\n",
       "    </tr>\n",
       "    <tr>\n",
       "      <th>99999</th>\n",
       "      <td>15151</td>\n",
       "      <td>15619462</td>\n",
       "      <td>1.0</td>\n",
       "      <td>0.0</td>\n",
       "      <td>15619462.0</td>\n",
       "      <td>0.999988</td>\n",
       "      <td>-7.161018e-07</td>\n",
       "      <td>0.048470</td>\n",
       "      <td>2.459626e-07</td>\n",
       "      <td>0.0</td>\n",
       "      <td>0.866765</td>\n",
       "    </tr>\n",
       "    <tr>\n",
       "      <th>100000</th>\n",
       "      <td>6302</td>\n",
       "      <td>95120149</td>\n",
       "      <td>9.0</td>\n",
       "      <td>0.0</td>\n",
       "      <td>95120149.0</td>\n",
       "      <td>0.999993</td>\n",
       "      <td>4.232935e-07</td>\n",
       "      <td>0.049657</td>\n",
       "      <td>1.419141e-07</td>\n",
       "      <td>0.0</td>\n",
       "      <td>0.868007</td>\n",
       "    </tr>\n",
       "  </tbody>\n",
       "</table>\n",
       "</div>"
      ],
      "text/plain": [
       "        sid_index        SNP   Chr  GenDist       ChrPos    PValue  \\\n",
       "99996        6168  174418358   4.0      0.0  174418358.0  0.999984   \n",
       "99997        4683  137398567  10.0      0.0  137398567.0  0.999985   \n",
       "99998       14920  219416188   1.0      0.0  219416188.0  0.999988   \n",
       "99999       15151   15619462   1.0      0.0   15619462.0  0.999988   \n",
       "100000       6302   95120149   9.0      0.0   95120149.0  0.999993   \n",
       "\n",
       "           SnpWeight  SnpWeightSE  SnpFractVarExpl  Mixing    Nullh2  \n",
       "99996   1.019550e-06     0.050940     3.332093e-07     0.0  0.870638  \n",
       "99997  -6.513108e-07     0.035761     3.032146e-07     0.0  0.868867  \n",
       "99998   9.268014e-07     0.060890     2.533986e-07     0.0  0.866765  \n",
       "99999  -7.161018e-07     0.048470     2.459626e-07     0.0  0.866765  \n",
       "100000  4.232935e-07     0.049657     1.419141e-07     0.0  0.868007  "
      ]
     },
     "execution_count": 9,
     "metadata": {},
     "output_type": "execute_result"
    }
   ],
   "source": [
    "results.tail()"
   ]
  },
  {
   "cell_type": "code",
   "execution_count": 16,
   "metadata": {},
   "outputs": [
    {
     "data": {
      "text/plain": [
       "(1845,)"
      ]
     },
     "execution_count": 16,
     "metadata": {},
     "output_type": "execute_result"
    }
   ],
   "source": [
    "ind_sig = results['sid_index'][results['PValue'] < 1e-5].values\n",
    "ind_sig.shape"
   ]
  },
  {
   "cell_type": "code",
   "execution_count": 8,
   "metadata": {},
   "outputs": [
    {
     "data": {
      "text/plain": [
       "(100001, 11)"
      ]
     },
     "execution_count": 8,
     "metadata": {},
     "output_type": "execute_result"
    }
   ],
   "source": [
    "results.shape"
   ]
  },
  {
   "cell_type": "code",
   "execution_count": 11,
   "metadata": {},
   "outputs": [],
   "source": [
    "import h5py\n",
    "with h5py.File('output/random_select/100000', 'r') as f:\n",
    "    X = f['/0/X'][:]"
   ]
  },
  {
   "cell_type": "code",
   "execution_count": 18,
   "metadata": {},
   "outputs": [
    {
     "data": {
      "text/plain": [
       "<matplotlib.image.AxesImage at 0x2aeb4984fe90>"
      ]
     },
     "execution_count": 18,
     "metadata": {},
     "output_type": "execute_result"
    },
    {
     "data": {
      "image/png": "[encoded data removed]",
      "text/plain": [
       "<matplotlib.figure.Figure at 0x2aeb4984f4d0>"
      ]
     },
     "metadata": {},
     "output_type": "display_data"
    }
   ],
   "source": [
    "fig, ax = plt.subplots(figsize=(16, 16))\n",
    "ax.matshow(X[ind_sig, :], cmap=cm.Greys)"
   ]
  },
  {
   "cell_type": "code",
   "execution_count": 19,
   "metadata": {
    "collapsed": true
   },
   "outputs": [],
   "source": [
    "X_sig = X[ind_sig, :]"
   ]
  },
  {
   "cell_type": "code",
   "execution_count": 22,
   "metadata": {},
   "outputs": [],
   "source": [
    "X_sig_normed = (X_sig.astype('float32') - X_sig.mean(axis=1)[:, np.newaxis])/X_sig.std(axis=1)[:, np.newaxis]"
   ]
  },
  {
   "cell_type": "code",
   "execution_count": 59,
   "metadata": {},
   "outputs": [],
   "source": [
    "XTX = np.dot(X_sig_normed, X_sig_normed.T)\n",
    "S, U = np.linalg.eigh(XTX)"
   ]
  },
  {
   "cell_type": "code",
   "execution_count": 56,
   "metadata": {},
   "outputs": [],
   "source": [
    "A = np.dot(np.linalg.inv(XTX), X_sig_normed)"
   ]
  },
  {
   "cell_type": "code",
   "execution_count": 57,
   "metadata": {},
   "outputs": [
    {
     "data": {
      "text/plain": [
       "array([ 0.01710858,  0.00894865, -0.02074421, ..., -0.02388792,\n",
       "       -0.00073308, -0.00163615])"
      ]
     },
     "execution_count": 57,
     "metadata": {},
     "output_type": "execute_result"
    }
   ],
   "source": [
    "beta = np.dot(A, np.random.normal(size=A.shape[1]))\n",
    "beta"
   ]
  },
  {
   "cell_type": "code",
   "execution_count": 36,
   "metadata": {},
   "outputs": [
    {
     "data": {
      "image/png": "[encoded data removed]",
      "text/plain": [
       "<matplotlib.figure.Figure at 0x2aeb73f2c090>"
      ]
     },
     "metadata": {},
     "output_type": "display_data"
    }
   ],
   "source": [
    "h = hist(S, bins=100)"
   ]
  },
  {
   "cell_type": "code",
   "execution_count": 37,
   "metadata": {},
   "outputs": [
    {
     "data": {
      "text/plain": [
       "array([  1.00000000e+00,   1.00000000e+00,   1.00000000e+00, ...,\n",
       "         9.66507279e-06,   8.57096485e-06,   8.08514516e-06])"
      ]
     },
     "execution_count": 37,
     "metadata": {},
     "output_type": "execute_result"
    }
   ],
   "source": [
    "1.0/S"
   ]
  },
  {
   "cell_type": "code",
   "execution_count": 67,
   "metadata": {},
   "outputs": [
    {
     "data": {
      "image/png": "[encoded data removed]",
      "text/plain": [
       "<matplotlib.figure.Figure at 0x2aeb97702590>"
      ]
     },
     "metadata": {},
     "output_type": "display_data"
    }
   ],
   "source": [
    "pcc = np.ravel(XTX/X_sig_normed.shape[1])\n",
    "pcc = pcc[pcc < 0.99]\n",
    "h = hist(pcc, bins=100)"
   ]
  },
  {
   "cell_type": "code",
   "execution_count": 75,
   "metadata": {},
   "outputs": [
    {
     "data": {
      "text/plain": [
       "<matplotlib.image.AxesImage at 0x2aeb979a8e90>"
      ]
     },
     "execution_count": 75,
     "metadata": {},
     "output_type": "execute_result"
    },
    {
     "data": {
      "image/png": "[encoded data removed]",
      "text/plain": [
       "<matplotlib.figure.Figure at 0x2aeb74053ad0>"
      ]
     },
     "metadata": {},
     "output_type": "display_data"
    }
   ],
   "source": [
    "matshow(np.abs(XTX/X_sig_normed.shape[1]) > 0.2, cmap=cm.Greys)"
   ]
  },
  {
   "cell_type": "code",
   "execution_count": 82,
   "metadata": {},
   "outputs": [
    {
     "data": {
      "text/plain": [
       "568"
      ]
     },
     "execution_count": 82,
     "metadata": {},
     "output_type": "execute_result"
    }
   ],
   "source": [
    "np.sum(S > 0.1)"
   ]
  },
  {
   "cell_type": "code",
   "execution_count": 80,
   "metadata": {},
   "outputs": [
    {
     "data": {
      "text/plain": [
       "array([ -2.99216518e-10,  -2.05748874e-10,  -1.84075128e-10, ...,\n",
       "         1.03464336e+05,   1.16671979e+05,   1.23682617e+05])"
      ]
     },
     "execution_count": 80,
     "metadata": {},
     "output_type": "execute_result"
    }
   ],
   "source": [
    "S"
   ]
  },
  {
   "cell_type": "code",
   "execution_count": 88,
   "metadata": {},
   "outputs": [
    {
     "data": {
      "text/plain": [
       "4802"
      ]
     },
     "execution_count": 88,
     "metadata": {},
     "output_type": "execute_result"
    }
   ],
   "source": [
    "np.sum(np.sort(np.abs(pcc)) > 0.5)"
   ]
  },
  {
   "cell_type": "code",
   "execution_count": 89,
   "metadata": {},
   "outputs": [
    {
     "ename": "ImportError",
     "evalue": "No module named GPy",
     "output_type": "error",
     "traceback": [
      "\u001b[0;31m\u001b[0m",
      "\u001b[0;31mImportError\u001b[0mTraceback (most recent call last)",
      "\u001b[0;32m<ipython-input-89-c6d42d62ab4a>\u001b[0m in \u001b[0;36m<module>\u001b[0;34m()\u001b[0m\n\u001b[0;32m----> 1\u001b[0;31m \u001b[0;32mimport\u001b[0m \u001b[0mGPy\u001b[0m\u001b[0;34m\u001b[0m\u001b[0m\n\u001b[0m",
      "\u001b[0;31mImportError\u001b[0m: No module named GPy"
     ]
    }
   ],
   "source": [
    "import GPy"
   ]
  },
  {
   "cell_type": "code",
   "execution_count": 181,
   "metadata": {},
   "outputs": [],
   "source": [
    "X_cor = np.repeat(np.random.normal(size=(100, 5)), 5, axis=1)\n",
    "w_cor = np.random.normal(size=25)\n",
    "y_cor = np.dot(X_cor, w_cor) + np.random.normal(scale=0.1, size=X_cor.shape[0])\n",
    "X_cor_test = np.repeat(np.random.normal(size=(100, 5)), 5, axis=1)\n",
    "y_cor_test = np.dot(X_cor_test, w_cor) + np.random.normal(scale=0.1, size=X_cor_test.shape[0])"
   ]
  },
  {
   "cell_type": "code",
   "execution_count": 182,
   "metadata": {},
   "outputs": [
    {
     "data": {
      "text/plain": [
       "<matplotlib.image.AxesImage at 0x2aeb9d5e1110>"
      ]
     },
     "execution_count": 182,
     "metadata": {},
     "output_type": "execute_result"
    },
    {
     "data": {
      "image/png": "[encoded data removed]",
      "text/plain": [
       "<matplotlib.figure.Figure at 0x2aeb9c86ae10>"
      ]
     },
     "metadata": {},
     "output_type": "display_data"
    }
   ],
   "source": [
    "matshow(X_cor.T, cmap=cm.RdBu_r)"
   ]
  },
  {
   "cell_type": "code",
   "execution_count": 126,
   "metadata": {},
   "outputs": [
    {
     "data": {
      "text/plain": [
       "Ridge(alpha=0.001, copy_X=True, fit_intercept=True, max_iter=None,\n",
       "   normalize=False, random_state=None, solver='auto', tol=0.001)"
      ]
     },
     "execution_count": 126,
     "metadata": {},
     "output_type": "execute_result"
    }
   ],
   "source": [
    "from sklearn.linear_model import Ridge\n",
    "lin = Ridge(0)\n",
    "lin.fit(X_cor, y_cor)\n",
    "ridge = Ridge(0.001)\n",
    "ridge.fit(X_cor, y_cor)"
   ]
  },
  {
   "cell_type": "code",
   "execution_count": 111,
   "metadata": {},
   "outputs": [
    {
     "data": {
      "text/plain": [
       "array([  1.31950557e+13,   1.16003726e+13,  -2.36322042e+13,\n",
       "        -1.40046478e+12,   2.37240608e+11,  -5.90732249e+13,\n",
       "         1.47683062e+13,   1.47683062e+13,   1.47683062e+13,\n",
       "         1.47683062e+13,   1.36643958e+13,  -3.41609894e+12,\n",
       "        -3.41609894e+12,  -3.41609894e+12,  -3.41609894e+12,\n",
       "         6.96554513e+10,  -1.74138628e+10,  -1.74138628e+10,\n",
       "        -1.74138628e+10,  -1.74138628e+10,   4.17766597e+12,\n",
       "        -1.04441649e+12,  -1.04441649e+12,  -1.04441649e+12,\n",
       "        -1.04441649e+12])"
      ]
     },
     "execution_count": 111,
     "metadata": {},
     "output_type": "execute_result"
    }
   ],
   "source": [
    "lin.coef_"
   ]
  },
  {
   "cell_type": "code",
   "execution_count": 127,
   "metadata": {},
   "outputs": [
    {
     "data": {
      "text/plain": [
       "array([ 0.69688551,  0.69688551,  0.69688551,  0.69688551,  0.69688551,\n",
       "        0.75253035,  0.75253035,  0.75253035,  0.75253035,  0.75253035,\n",
       "        0.06768312,  0.06768312,  0.06768312,  0.06768312,  0.06768312,\n",
       "       -0.13103996, -0.13103996, -0.13103996, -0.13103996, -0.13103996,\n",
       "        0.6535973 ,  0.6535973 ,  0.6535973 ,  0.6535973 ,  0.6535973 ])"
      ]
     },
     "execution_count": 127,
     "metadata": {},
     "output_type": "execute_result"
    }
   ],
   "source": [
    "ridge.coef_"
   ]
  },
  {
   "cell_type": "code",
   "execution_count": 123,
   "metadata": {},
   "outputs": [
    {
     "data": {
      "text/plain": [
       "array([ 0.69848542,  0.75107237,  0.06652162, -0.13037862,  0.65526368])"
      ]
     },
     "execution_count": 123,
     "metadata": {},
     "output_type": "execute_result"
    }
   ],
   "source": [
    "w_cor.reshape((5, 5)).mean(axis=1)"
   ]
  },
  {
   "cell_type": "code",
   "execution_count": 138,
   "metadata": {},
   "outputs": [
    {
     "data": {
      "text/plain": [
       "<matplotlib.image.AxesImage at 0x2aeb9c694f90>"
      ]
     },
     "execution_count": 138,
     "metadata": {},
     "output_type": "execute_result"
    },
    {
     "data": {
      "image/png": "[encoded data removed]",
      "text/plain": [
       "<matplotlib.figure.Figure at 0x2aeb9c4558d0>"
      ]
     },
     "metadata": {},
     "output_type": "display_data"
    }
   ],
   "source": [
    "matshow(np.linalg.inv(np.dot(X_cor.T, X_cor) + np.identity(25)), cmap=cm.RdBu_r)"
   ]
  },
  {
   "cell_type": "code",
   "execution_count": 144,
   "metadata": {},
   "outputs": [
    {
     "data": {
      "text/plain": [
       "array([  8.38404896e-03,  -1.61595104e-03,  -1.61595104e-03,\n",
       "        -1.61595104e-03,  -1.61595104e-03,   2.77815639e-05,\n",
       "         2.77815639e-05,   2.77815639e-05,   2.77815639e-05,\n",
       "         2.77815639e-05,  -6.73959752e-05,  -6.73959752e-05,\n",
       "        -6.73959752e-05,  -6.73959752e-05,  -6.73959752e-05,\n",
       "         4.83508076e-05,   4.83508076e-05,   4.83508076e-05,\n",
       "         4.83508076e-05,   4.83508076e-05,   7.93253075e-06,\n",
       "         7.93253075e-06,   7.93253075e-06,   7.93253075e-06,\n",
       "         7.93253075e-06])"
      ]
     },
     "execution_count": 144,
     "metadata": {},
     "output_type": "execute_result"
    }
   ],
   "source": [
    "np.linalg.inv(np.dot(X_cor.T, X_cor) + 100.0*np.identity(25))[0]"
   ]
  },
  {
   "cell_type": "code",
   "execution_count": 157,
   "metadata": {
    "collapsed": true
   },
   "outputs": [],
   "source": [
    "from sklearn.gaussian_process import GaussianProcessRegressor\n",
    "from sklearn.gaussian_process.kernels import DotProduct, WhiteKernel"
   ]
  },
  {
   "cell_type": "code",
   "execution_count": 183,
   "metadata": {},
   "outputs": [
    {
     "data": {
      "text/plain": [
       "GaussianProcessRegressor(alpha=1e-10, copy_X_train=True,\n",
       "             kernel=DotProduct(sigma_0=1) + WhiteKernel(noise_level=1),\n",
       "             n_restarts_optimizer=0, normalize_y=False,\n",
       "             optimizer='fmin_l_bfgs_b', random_state=None)"
      ]
     },
     "execution_count": 183,
     "metadata": {},
     "output_type": "execute_result"
    }
   ],
   "source": [
    "model_gp = GaussianProcessRegressor(DotProduct())\n",
    "model_gp.fit(X_cor, y_cor)\n",
    "model_gp_noise = GaussianProcessRegressor(DotProduct() + WhiteKernel())\n",
    "model_gp_noise.fit(X_cor, y_cor)"
   ]
  },
  {
   "cell_type": "code",
   "execution_count": 178,
   "metadata": {},
   "outputs": [
    {
     "data": {
      "text/plain": [
       "{'sigma_0': 0.85908637758660222, 'sigma_0_bounds': (1e-05, 100000.0)}"
      ]
     },
     "execution_count": 178,
     "metadata": {},
     "output_type": "execute_result"
    }
   ],
   "source": [
    "model_gp.kernel_.get_params()"
   ]
  },
  {
   "cell_type": "code",
   "execution_count": 179,
   "metadata": {},
   "outputs": [
    {
     "data": {
      "text/plain": [
       "{'k1': DotProduct(sigma_0=2.26e-05),\n",
       " 'k1__sigma_0': 2.2647713009510214e-05,\n",
       " 'k1__sigma_0_bounds': (1e-05, 100000.0),\n",
       " 'k2': WhiteKernel(noise_level=0.011),\n",
       " 'k2__noise_level': 0.010959745235211701,\n",
       " 'k2__noise_level_bounds': (1e-05, 100000.0)}"
      ]
     },
     "execution_count": 179,
     "metadata": {},
     "output_type": "execute_result"
    }
   ],
   "source": [
    "model_gp_noise.kernel_.get_params()"
   ]
  },
  {
   "cell_type": "code",
   "execution_count": 184,
   "metadata": {},
   "outputs": [
    {
     "data": {
      "text/plain": [
       "(array([  0.09899139,  -2.34750366,   2.48815155,   3.98261642,\n",
       "          1.800354  ,  -1.49521637,  -1.54799652,   1.68573761,\n",
       "         -8.52052307,  -4.14487457,   4.9900589 ,  -1.50819397,\n",
       "          6.224617  ,   4.43113708,   2.10797119,   5.22455978,\n",
       "          1.21428871,  -3.58859253,  -2.00544262,  -2.0293541 ,\n",
       "         -5.61322021,  -0.94171143,   4.26948452,   4.83132935,\n",
       "          1.06817627,  -7.23306656,   0.5028801 ,  -3.95410538,\n",
       "         -0.62994385,   2.54508209,   2.95508575,   0.97679901,\n",
       "          4.01483917,  -1.8094635 ,  -1.32189941,  -4.82083893,\n",
       "         -0.05400848,   2.6423111 ,  -2.8843689 ,  11.23355103,\n",
       "         -4.96159363, -10.82870483,  -1.98944092,   2.78964615,\n",
       "          5.56519318,  -2.3994751 ,  -3.38508224,  -8.5750351 ,\n",
       "         -2.00477982,   2.48236084,   0.78845215,   5.11091995,\n",
       "          0.05478668,   5.6061554 ,   0.93355179,   6.42839813,\n",
       "          2.55152321,   1.10126305,  -4.51503754,  -3.93989563,\n",
       "         -4.12931824,  -1.69192123,   3.21679688,  -3.81639671,\n",
       "         -2.46743011,  -3.35758209,   0.35836887,  -0.75501251,\n",
       "          6.55836487,  -3.4080925 ,  -4.85280609,   0.47514343,\n",
       "         -2.92689514,   0.56123734,   3.89305115,  -2.30988503,\n",
       "         12.12310791,  -5.32593441,   7.99156189,  -2.2747612 ,\n",
       "         -2.48263741,   5.85047913,  -0.28851318,   2.05634308,\n",
       "         10.59989929,  -2.90950012,  -0.22145081,  -1.13488007,\n",
       "          3.62176514,  -1.32274246,  -6.49901962,  -5.37791443,\n",
       "         -2.44036865,  -0.18117142,   1.88485718,   4.88241577,\n",
       "        -10.85375214,   3.43593597,  -0.21622467,  -3.52973938]),\n",
       " array([ 0.        ,  0.        ,  0.08433276,  0.        ,  0.02013374,\n",
       "         0.        ,  0.        ,  0.        ,  0.        ,  0.        ,\n",
       "         0.        ,  0.        ,  0.        ,  0.        ,  0.08231685,\n",
       "         0.        ,  0.01340175,  0.        ,  0.00887377,  0.        ,\n",
       "         0.        ,  0.        ,  0.05411964,  0.        ,  0.        ,\n",
       "         0.08115498,  0.02941892,  0.02776197,  0.        ,  0.12714715,\n",
       "         0.04522774,  0.        ,  0.        ,  0.        ,  0.        ,\n",
       "         0.        ,  0.        ,  0.        ,  0.        ,  0.02539684,\n",
       "         0.02145433,  0.10418827,  0.        ,  0.        ,  0.04923454,\n",
       "         0.        ,  0.08561276,  0.        ,  0.        ,  0.        ,\n",
       "         0.        ,  0.06049544,  0.09058804,  0.        ,  0.        ,\n",
       "         0.03063118,  0.        ,  0.        ,  0.        ,  0.        ,\n",
       "         0.14508529,  0.        ,  0.07385186,  0.        ,  0.        ,\n",
       "         0.02857011,  0.        ,  0.04189889,  0.0135375 ,  0.08443337,\n",
       "         0.        ,  0.        ,  0.        ,  0.        ,  0.02746246,\n",
       "         0.        ,  0.        ,  0.04480092,  0.00509028,  0.        ,\n",
       "         0.02746095,  0.        ,  0.        ,  0.        ,  0.0751979 ,\n",
       "         0.09531761,  0.        ,  0.        ,  0.        ,  0.        ,\n",
       "         0.0595514 ,  0.        ,  0.        ,  0.03706528,  0.        ,\n",
       "         0.08857137,  0.1437832 ,  0.        ,  0.        ,  0.        ]))"
      ]
     },
     "execution_count": 184,
     "metadata": {},
     "output_type": "execute_result"
    }
   ],
   "source": [
    "model_gp.predict(X_cor_test, return_std=True)"
   ]
  },
  {
   "cell_type": "code",
   "execution_count": 185,
   "metadata": {},
   "outputs": [
    {
     "data": {
      "text/plain": [
       "array([  0.08596062,  -2.40609225,   2.40436312,   4.14484097,\n",
       "         1.63529092,  -1.45114365,  -1.74927295,   1.6880156 ,\n",
       "        -8.50837098,  -4.16537019,   4.94020959,  -1.53370312,\n",
       "         6.21650254,   4.53076301,   2.05459592,   5.30783011,\n",
       "         0.83956153,  -3.67288874,  -2.06667928,  -2.18876752,\n",
       "        -5.67045415,  -0.99432859,   4.19049939,   5.006203  ,\n",
       "         1.02183079,  -7.26518817,   0.49668912,  -3.93597651,\n",
       "        -0.55472602,   2.23259882,   2.90286821,   0.90788452,\n",
       "         3.81165659,  -1.86067964,  -1.48812848,  -4.89173939,\n",
       "        -0.05596832,   2.58832716,  -2.85093441,  11.15672314,\n",
       "        -4.87761361, -10.84660055,  -2.04129658,   2.72517735,\n",
       "         5.57384502,  -2.33629577,  -3.33457567,  -8.57748022,\n",
       "        -2.12721448,   2.48366632,   0.83145564,   5.07911461,\n",
       "         0.1621738 ,   5.44426442,   1.0189647 ,   6.25690332,\n",
       "         2.54820108,   1.09376506,  -4.30457963,  -3.85707575,\n",
       "        -4.21550842,  -1.97663759,   3.11120716,  -3.8682611 ,\n",
       "        -2.55314105,  -3.44456384,   0.58029997,  -0.75546299,\n",
       "         6.49370541,  -3.44903308,  -4.90279804,   0.63157538,\n",
       "        -3.01257447,   0.3230377 ,   3.92978003,  -2.48466738,\n",
       "        12.05880645,  -5.50124607,   7.87985805,  -2.29975702,\n",
       "        -2.5548264 ,   5.78882875,  -0.4164186 ,   2.01468921,\n",
       "        10.415215  ,  -2.80544097,  -0.21426241,  -1.21887691,\n",
       "         3.59161549,  -1.46277869,  -6.42805941,  -5.41802041,\n",
       "        -2.39941508,  -0.16740157,   1.79649091,   4.95849505,\n",
       "       -10.87827442,   3.40377761,  -0.38576458,  -3.71496309])"
      ]
     },
     "execution_count": 185,
     "metadata": {},
     "output_type": "execute_result"
    }
   ],
   "source": [
    "y_cor_test"
   ]
  },
  {
   "cell_type": "code",
   "execution_count": null,
   "metadata": {
    "collapsed": true
   },
   "outputs": [],
   "source": []
  }
 ],
 "metadata": {
  "kernelspec": {
   "display_name": "Python 2",
   "language": "python",
   "name": "python2"
  },
  "language_info": {
   "codemirror_mode": {
    "name": "ipython",
    "version": 2
   },
   "file_extension": ".py",
   "mimetype": "text/x-python",
   "name": "python",
   "nbconvert_exporter": "python",
   "pygments_lexer": "ipython2",
   "version": "2.7.13"
  }
 },
 "nbformat": 4,
 "nbformat_minor": 2
}
