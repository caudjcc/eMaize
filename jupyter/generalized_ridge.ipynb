{
 "cells": [
  {
   "cell_type": "code",
   "execution_count": 1,
   "metadata": {},
   "outputs": [
    {
     "name": "stdout",
     "output_type": "stream",
     "text": [
      "Populating the interactive namespace from numpy and matplotlib\n"
     ]
    }
   ],
   "source": [
    "%pylab inline"
   ]
  },
  {
   "cell_type": "code",
   "execution_count": 2,
   "metadata": {},
   "outputs": [
    {
     "name": "stdout",
     "output_type": "stream",
     "text": [
      "/Share/home/shibinbin/projects/emaize\n"
     ]
    }
   ],
   "source": [
    "cd .."
   ]
  },
  {
   "cell_type": "code",
   "execution_count": 3,
   "metadata": {
    "collapsed": true
   },
   "outputs": [],
   "source": [
    "import h5py"
   ]
  },
  {
   "cell_type": "code",
   "execution_count": 6,
   "metadata": {},
   "outputs": [],
   "source": [
    "with h5py.File('output/random_projection/2bit/normalized_matrix/r=10000', 'r') as f:\n",
    "    X = f['X'][:]"
   ]
  },
  {
   "cell_type": "code",
   "execution_count": 11,
   "metadata": {},
   "outputs": [],
   "source": [
    "with h5py.File('data/phenotypes/all', 'r') as f:\n",
    "    y = f['trait1'][:]"
   ]
  },
  {
   "cell_type": "code",
   "execution_count": 78,
   "metadata": {},
   "outputs": [
    {
     "name": "stdout",
     "output_type": "stream",
     "text": [
      "(3803,) (951,)\n"
     ]
    }
   ],
   "source": [
    "avail_index = np.nonzero(~np.isnan(y))[0]\n",
    "train_index = np.random.choice(avail_index, size=int(avail_index.shape[0]*0.8), replace=False)\n",
    "test_index = np.setdiff1d(avail_index, train_index)\n",
    "print train_index.shape, test_index.shape"
   ]
  },
  {
   "cell_type": "code",
   "execution_count": 66,
   "metadata": {},
   "outputs": [],
   "source": [
    "class GeneralizedRidge(object):\n",
    "    def __init__(self, alphas):\n",
    "        self.alphas = alphas\n",
    "        \n",
    "    def fit(self, X, y):\n",
    "        n, p = X.shape\n",
    "        if self.alphas.shape[0] != X.shape[1]:\n",
    "            raise ValueError('number of alphas is not equal to number of columns in X')\n",
    "        X = np.concatenate((X, np.ones(n)[:, np.newaxis]), axis=1)\n",
    "        K = np.dot(X.T, X)\n",
    "        ii = np.arange(p)\n",
    "        K[ii, ii] += self.alphas\n",
    "        K_inv = np.linalg.inv(K)\n",
    "        beta = K_inv.dot(X.T).dot(y)\n",
    "        self.H_ = X.dot(K_inv).dot(X.T)\n",
    "        self.coef_ = beta[:-1]\n",
    "        self.intercept_ = beta[-1]\n",
    "\n",
    "alphas = np.ones(X.shape[1])\n",
    "alphas[(X.shape[1]/2):] = 10\n",
    "\n",
    "model = GeneralizedRidge(alphas=alphas)\n",
    "model.fit(X[train_index], y[train_index])"
   ]
  },
  {
   "cell_type": "code",
   "execution_count": 67,
   "metadata": {},
   "outputs": [
    {
     "name": "stdout",
     "output_type": "stream",
     "text": [
      "[ 0.01143032  0.01892389  0.01061736 ...,  0.00950807  0.00494663\n",
      " -0.00306728]\n",
      "-0.0939543769582\n"
     ]
    }
   ],
   "source": [
    "print model.coef_\n",
    "print model.intercept_"
   ]
  },
  {
   "cell_type": "code",
   "execution_count": 76,
   "metadata": {},
   "outputs": [
    {
     "data": {
      "text/plain": [
       "[<matplotlib.lines.Line2D at 0x2acb8d4a4ad0>]"
      ]
     },
     "execution_count": 76,
     "metadata": {},
     "output_type": "execute_result"
    },
    {
     "data": {
      "image/png": "[encoded data removed]",
      "text/plain": [
       "<matplotlib.figure.Figure at 0x2acb8272d610>"
      ]
     },
     "metadata": {},
     "output_type": "display_data"
    }
   ],
   "source": [
    "plot(np.diag(model.H_))"
   ]
  },
  {
   "cell_type": "code",
   "execution_count": 65,
   "metadata": {},
   "outputs": [
    {
     "data": {
      "text/plain": [
       "(0.00047929785869082748, 4.304399746244901e-05)"
      ]
     },
     "execution_count": 65,
     "metadata": {},
     "output_type": "execute_result"
    }
   ],
   "source": [
    "(model.coef_[:(X.shape[1]/2)]**2).mean(), (model.coef_[(X.shape[1]/2):]**2).mean()"
   ]
  },
  {
   "cell_type": "code",
   "execution_count": 32,
   "metadata": {},
   "outputs": [
    {
     "data": {
      "text/plain": [
       "Ridge(alpha=1.0, copy_X=True, fit_intercept=True, max_iter=None,\n",
       "   normalize=False, random_state=None, solver='auto', tol=0.001)"
      ]
     },
     "execution_count": 32,
     "metadata": {},
     "output_type": "execute_result"
    }
   ],
   "source": [
    "from sklearn.linear_model import Ridge\n",
    "model_ridge = Ridge(alpha=1.0)\n",
    "model_ridge.fit(X[train_index], y[train_index])"
   ]
  },
  {
   "cell_type": "code",
   "execution_count": 41,
   "metadata": {},
   "outputs": [
    {
     "name": "stdout",
     "output_type": "stream",
     "text": [
      "[ 0.00725508  0.0014338   0.01407275 ...,  0.02230113  0.03005994\n",
      " -0.0117165 ]\n",
      "-0.118361906131\n"
     ]
    }
   ],
   "source": [
    "print model_ridge.coef_\n",
    "print model_ridge.intercept_"
   ]
  },
  {
   "cell_type": "code",
   "execution_count": 62,
   "metadata": {},
   "outputs": [
    {
     "name": "stdout",
     "output_type": "stream",
     "text": [
      "(0.75453987106691944, 0.0)\n"
     ]
    },
    {
     "data": {
      "text/plain": [
       "<matplotlib.collections.PathCollection at 0x2acb7788eb10>"
      ]
     },
     "execution_count": 62,
     "metadata": {},
     "output_type": "execute_result"
    },
    {
     "data": {
      "image/png": "[encoded data removed]",
      "text/plain": [
       "<matplotlib.figure.Figure at 0x2acb777fec10>"
      ]
     },
     "metadata": {},
     "output_type": "display_data"
    }
   ],
   "source": [
    "from scipy.stats import pearsonr\n",
    "print pearsonr(model.coef_, model_ridge.coef_)\n",
    "scatter(model.coef_[:1000], model_ridge.coef_[:1000], s=1)"
   ]
  },
  {
   "cell_type": "code",
   "execution_count": 51,
   "metadata": {},
   "outputs": [
    {
     "data": {
      "text/plain": [
       "array([[ 1.,  0.,  0.,  0.,  0.],\n",
       "       [ 0.,  1.,  0.,  0.,  0.],\n",
       "       [ 0.,  0.,  1.,  0.,  0.],\n",
       "       [ 0.,  0.,  0.,  1.,  0.],\n",
       "       [ 0.,  0.,  0.,  0.,  1.]])"
      ]
     },
     "execution_count": 51,
     "metadata": {},
     "output_type": "execute_result"
    }
   ],
   "source": [
    "K = np.zeros((5, 5))\n",
    "ii = np.arange(5)\n",
    "K[ii, ii] += 1\n",
    "K"
   ]
  },
  {
   "cell_type": "code",
   "execution_count": null,
   "metadata": {
    "collapsed": true
   },
   "outputs": [],
   "source": []
  }
 ],
 "metadata": {
  "kernelspec": {
   "display_name": "Python 2",
   "language": "python",
   "name": "python2"
  },
  "language_info": {
   "codemirror_mode": {
    "name": "ipython",
    "version": 2
   },
   "file_extension": ".py",
   "mimetype": "text/x-python",
   "name": "python",
   "nbconvert_exporter": "python",
   "pygments_lexer": "ipython2",
   "version": "2.7.13"
  }
 },
 "nbformat": 4,
 "nbformat_minor": 2
}
