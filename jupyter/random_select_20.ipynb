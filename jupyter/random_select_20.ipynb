{
 "cells": [
  {
   "cell_type": "code",
   "execution_count": null,
   "metadata": {
    "collapsed": true
   },
   "outputs": [],
   "source": [
    "#1拼起来  2  shuffle  3 每次取一万个  100次  取的行数array存到一个h5py  /home/chenxupeng/projects/emaize/output/random_select\n",
    "#4取出来   存到一个h5py  以数字做group  100个group\n",
    "#一切以行数为索引  注意X chrom position对应   \n",
    "#然后都做feature selection   每个留200个即可！  3个性状！  注意用的性状是所有的！不是cv的！"
   ]
  },
  {
   "cell_type": "code",
   "execution_count": 2,
   "metadata": {},
   "outputs": [
    {
     "name": "stdout",
     "output_type": "stream",
     "text": [
      "/Share/home/chenxupeng/projects/emaize\n"
     ]
    }
   ],
   "source": [
    "cd .."
   ]
  },
  {
   "cell_type": "code",
   "execution_count": 53,
   "metadata": {
    "collapsed": true
   },
   "outputs": [],
   "source": [
    "import h5py\n",
    "import numpy as np\n",
    "import pandas as pd"
   ]
  },
  {
   "cell_type": "code",
   "execution_count": 54,
   "metadata": {
    "collapsed": true
   },
   "outputs": [],
   "source": [
    "geno = {}\n",
    "for i in range(10):\n",
    "    f=  h5py.File('data/genotype_minor/chr'+str(i+1))\n",
    "    geno[i+1] = f['data'][:,:]"
   ]
  },
  {
   "cell_type": "code",
   "execution_count": 55,
   "metadata": {
    "collapsed": true
   },
   "outputs": [],
   "source": [
    "genotypes = np.concatenate((geno[1],geno[2],geno[3],geno[4],geno[5],geno[6],geno[7],geno[8],geno[9],geno[10]))"
   ]
  },
  {
   "cell_type": "code",
   "execution_count": 56,
   "metadata": {},
   "outputs": [
    {
     "data": {
      "text/plain": [
       "(1893119, 6210)"
      ]
     },
     "execution_count": 56,
     "metadata": {},
     "output_type": "execute_result"
    }
   ],
   "source": [
    "genotypes.shape"
   ]
  },
  {
   "cell_type": "code",
   "execution_count": 57,
   "metadata": {
    "collapsed": true
   },
   "outputs": [],
   "source": [
    "num={}\n",
    "for i in range(10):\n",
    "    num[i+1] = geno[i+1].shape[0]"
   ]
  },
  {
   "cell_type": "code",
   "execution_count": 58,
   "metadata": {},
   "outputs": [
    {
     "data": {
      "text/plain": [
       "217663"
      ]
     },
     "execution_count": 58,
     "metadata": {},
     "output_type": "execute_result"
    }
   ],
   "source": [
    "num[2]"
   ]
  },
  {
   "cell_type": "code",
   "execution_count": 59,
   "metadata": {
    "collapsed": true
   },
   "outputs": [],
   "source": [
    "chrom = {}\n",
    "for i in range(10):\n",
    "    chrom[i+1] = np.repeat(i+1,num[i+1])"
   ]
  },
  {
   "cell_type": "code",
   "execution_count": 60,
   "metadata": {},
   "outputs": [
    {
     "data": {
      "text/plain": [
       "array([10, 10, 10, ..., 10, 10, 10])"
      ]
     },
     "execution_count": 60,
     "metadata": {},
     "output_type": "execute_result"
    }
   ],
   "source": [
    "chrom[10]"
   ]
  },
  {
   "cell_type": "code",
   "execution_count": 61,
   "metadata": {
    "collapsed": true
   },
   "outputs": [],
   "source": [
    "position = {}\n",
    "for i in range(10):\n",
    "    fi=  h5py.File('data/genomic_positions')\n",
    "    position[i+1] = fi['chr'+str(i+1)][:]"
   ]
  },
  {
   "cell_type": "code",
   "execution_count": 62,
   "metadata": {},
   "outputs": [
    {
     "data": {
      "text/plain": [
       "(217663,)"
      ]
     },
     "execution_count": 62,
     "metadata": {},
     "output_type": "execute_result"
    }
   ],
   "source": [
    "position[2].shape"
   ]
  },
  {
   "cell_type": "code",
   "execution_count": 63,
   "metadata": {
    "collapsed": true
   },
   "outputs": [],
   "source": [
    "chrom = np.concatenate((chrom[1],chrom[2],chrom[3],chrom[4],chrom[5],chrom[6],chrom[7],chrom[8],chrom[9],chrom[10]))\n",
    "position = np.concatenate((position[1],position[2],position[3],position[4],position[5],position[6],position[7],position[8],position[9],position[10]))"
   ]
  },
  {
   "cell_type": "code",
   "execution_count": null,
   "metadata": {
    "collapsed": true
   },
   "outputs": [],
   "source": [
    "\n"
   ]
  },
  {
   "cell_type": "code",
   "execution_count": null,
   "metadata": {
    "collapsed": true
   },
   "outputs": [],
   "source": []
  },
  {
   "cell_type": "code",
   "execution_count": 64,
   "metadata": {},
   "outputs": [
    {
     "data": {
      "text/plain": [
       "(1893119,)"
      ]
     },
     "execution_count": 64,
     "metadata": {},
     "output_type": "execute_result"
    }
   ],
   "source": [
    "position.shape"
   ]
  },
  {
   "cell_type": "code",
   "execution_count": 65,
   "metadata": {
    "collapsed": true
   },
   "outputs": [],
   "source": [
    "a = np.arange(1893119)\n",
    "np.random.shuffle(a)"
   ]
  },
  {
   "cell_type": "code",
   "execution_count": 19,
   "metadata": {
    "collapsed": true
   },
   "outputs": [],
   "source": [
    "ind = {}"
   ]
  },
  {
   "cell_type": "code",
   "execution_count": 66,
   "metadata": {
    "collapsed": true
   },
   "outputs": [],
   "source": [
    "for j in range(100):\n",
    "    ind[j+1] = a[10000*j:10000*(j+1)]"
   ]
  },
  {
   "cell_type": "code",
   "execution_count": 67,
   "metadata": {},
   "outputs": [
    {
     "data": {
      "text/plain": [
       "(10000,)"
      ]
     },
     "execution_count": 67,
     "metadata": {},
     "output_type": "execute_result"
    }
   ],
   "source": [
    "ind[10].shape"
   ]
  },
  {
   "cell_type": "code",
   "execution_count": 68,
   "metadata": {
    "collapsed": true
   },
   "outputs": [],
   "source": [
    "\n",
    "with h5py.File('output/random_select/10000*100','w') as f:\n",
    "    for i in range(19):\n",
    "        f.create_dataset(str(i),data = ind[i+1])"
   ]
  },
  {
   "cell_type": "code",
   "execution_count": 69,
   "metadata": {},
   "outputs": [
    {
     "data": {
      "text/plain": [
       "(10000, 6210)"
      ]
     },
     "execution_count": 69,
     "metadata": {},
     "output_type": "execute_result"
    }
   ],
   "source": [
    "np.take(genotypes,ind[1],axis = 0).shape"
   ]
  },
  {
   "cell_type": "code",
   "execution_count": 70,
   "metadata": {
    "collapsed": true
   },
   "outputs": [],
   "source": [
    "X = {}\n",
    "for i in range(100):\n",
    "    X[i+1] = np.take(genotypes,ind[i+1],axis = 0)"
   ]
  },
  {
   "cell_type": "code",
   "execution_count": 71,
   "metadata": {
    "collapsed": true
   },
   "outputs": [],
   "source": [
    "position_ = {}\n",
    "for i in range(100):\n",
    "    position_[i+1] = np.take(position,ind[i+1],axis = 0)"
   ]
  },
  {
   "cell_type": "code",
   "execution_count": 72,
   "metadata": {},
   "outputs": [
    {
     "data": {
      "text/plain": [
       "(10000,)"
      ]
     },
     "execution_count": 72,
     "metadata": {},
     "output_type": "execute_result"
    }
   ],
   "source": [
    "position_[19].shape"
   ]
  },
  {
   "cell_type": "code",
   "execution_count": 74,
   "metadata": {
    "collapsed": true
   },
   "outputs": [],
   "source": [
    "chrom_ = {}\n",
    "for i in range(100):\n",
    "    chrom_[i+1] = np.take(chrom,ind[i+1])"
   ]
  },
  {
   "cell_type": "code",
   "execution_count": 75,
   "metadata": {},
   "outputs": [
    {
     "data": {
      "text/plain": [
       "{1: array([6, 6, 5, ..., 3, 3, 2]),\n",
       " 2: array([1, 9, 6, ..., 2, 1, 8]),\n",
       " 3: array([ 1, 10,  9, ...,  7,  5,  3]),\n",
       " 4: array([1, 5, 4, ..., 3, 5, 4]),\n",
       " 5: array([ 2,  7, 10, ..., 10,  8,  8]),\n",
       " 6: array([2, 3, 1, ..., 6, 2, 8]),\n",
       " 7: array([ 5, 10,  4, ...,  1,  6, 10]),\n",
       " 8: array([8, 2, 6, ..., 1, 2, 1]),\n",
       " 9: array([7, 3, 1, ..., 7, 6, 1]),\n",
       " 10: array([ 3,  7, 10, ...,  8,  1,  4]),\n",
       " 11: array([ 1,  1,  1, ..., 10,  3,  2]),\n",
       " 12: array([5, 5, 2, ..., 9, 1, 4]),\n",
       " 13: array([10,  7,  8, ..., 10,  6,  4]),\n",
       " 14: array([6, 2, 8, ..., 5, 1, 2]),\n",
       " 15: array([2, 1, 3, ..., 7, 4, 9]),\n",
       " 16: array([9, 5, 6, ..., 4, 1, 2]),\n",
       " 17: array([ 2,  6,  1, ...,  1, 10,  6]),\n",
       " 18: array([8, 4, 2, ..., 4, 1, 3]),\n",
       " 19: array([4, 3, 2, ..., 9, 1, 4]),\n",
       " 20: array([5, 2, 1, ..., 5, 2, 4]),\n",
       " 21: array([3, 4, 1, ..., 2, 9, 9]),\n",
       " 22: array([ 4,  1,  7, ...,  3,  8, 10]),\n",
       " 23: array([7, 1, 2, ..., 1, 1, 5]),\n",
       " 24: array([7, 6, 5, ..., 2, 5, 9]),\n",
       " 25: array([6, 3, 7, ..., 3, 3, 1]),\n",
       " 26: array([7, 3, 8, ..., 3, 3, 1]),\n",
       " 27: array([3, 4, 2, ..., 6, 6, 4]),\n",
       " 28: array([4, 3, 1, ..., 2, 8, 9]),\n",
       " 29: array([4, 7, 2, ..., 3, 1, 3]),\n",
       " 30: array([3, 1, 7, ..., 1, 1, 9]),\n",
       " 31: array([7, 2, 3, ..., 1, 5, 2]),\n",
       " 32: array([6, 3, 2, ..., 8, 2, 1]),\n",
       " 33: array([3, 1, 3, ..., 5, 7, 4]),\n",
       " 34: array([4, 5, 4, ..., 4, 4, 2]),\n",
       " 35: array([1, 1, 3, ..., 6, 6, 4]),\n",
       " 36: array([1, 1, 8, ..., 1, 5, 1]),\n",
       " 37: array([ 2,  8,  5, ...,  9, 10,  3]),\n",
       " 38: array([1, 6, 2, ..., 6, 5, 2]),\n",
       " 39: array([1, 4, 1, ..., 8, 4, 2]),\n",
       " 40: array([9, 9, 1, ..., 4, 4, 8]),\n",
       " 41: array([ 3,  8, 10, ...,  5,  2, 10]),\n",
       " 42: array([9, 4, 5, ..., 8, 4, 6]),\n",
       " 43: array([4, 5, 5, ..., 7, 1, 1]),\n",
       " 44: array([1, 7, 8, ..., 5, 4, 9]),\n",
       " 45: array([ 5,  1,  9, ..., 10,  3,  6]),\n",
       " 46: array([ 4, 10, 10, ...,  4,  1,  2]),\n",
       " 47: array([5, 2, 6, ..., 8, 8, 2]),\n",
       " 48: array([8, 6, 1, ..., 1, 9, 4]),\n",
       " 49: array([6, 2, 3, ..., 5, 7, 8]),\n",
       " 50: array([ 9, 10,  1, ...,  2,  5,  1]),\n",
       " 51: array([2, 6, 5, ..., 3, 3, 1]),\n",
       " 52: array([10,  7,  4, ..., 10,  7,  8]),\n",
       " 53: array([4, 9, 3, ..., 9, 9, 2]),\n",
       " 54: array([ 8,  4,  9, ..., 10,  9,  6]),\n",
       " 55: array([4, 5, 4, ..., 6, 1, 4]),\n",
       " 56: array([3, 3, 5, ..., 1, 9, 3]),\n",
       " 57: array([9, 1, 2, ..., 8, 1, 7]),\n",
       " 58: array([ 5,  2,  4, ...,  6, 10,  8]),\n",
       " 59: array([9, 4, 7, ..., 9, 2, 2]),\n",
       " 60: array([ 7,  2,  1, ..., 10,  4,  5]),\n",
       " 61: array([6, 4, 8, ..., 3, 4, 1]),\n",
       " 62: array([9, 9, 7, ..., 3, 9, 6]),\n",
       " 63: array([ 9,  5,  4, ...,  9, 10,  2]),\n",
       " 64: array([ 3,  5,  5, ...,  8,  5, 10]),\n",
       " 65: array([1, 1, 2, ..., 2, 2, 1]),\n",
       " 66: array([1, 9, 2, ..., 1, 3, 5]),\n",
       " 67: array([ 8,  1, 10, ...,  5,  4,  5]),\n",
       " 68: array([1, 7, 8, ..., 4, 1, 6]),\n",
       " 69: array([4, 3, 7, ..., 5, 7, 5]),\n",
       " 70: array([1, 8, 9, ..., 8, 1, 7]),\n",
       " 71: array([10,  9,  7, ...,  6,  8,  6]),\n",
       " 72: array([1, 3, 2, ..., 4, 5, 2]),\n",
       " 73: array([9, 8, 6, ..., 5, 1, 2]),\n",
       " 74: array([7, 1, 3, ..., 4, 3, 1]),\n",
       " 75: array([4, 6, 4, ..., 3, 6, 3]),\n",
       " 76: array([ 1,  1,  3, ..., 10,  2,  7]),\n",
       " 77: array([ 4,  4, 10, ...,  7,  9, 10]),\n",
       " 78: array([ 3,  3,  4, ...,  5, 10,  7]),\n",
       " 79: array([10,  4,  4, ...,  5,  1,  3]),\n",
       " 80: array([9, 1, 3, ..., 5, 8, 5]),\n",
       " 81: array([2, 3, 9, ..., 7, 2, 4]),\n",
       " 82: array([8, 4, 5, ..., 3, 7, 4]),\n",
       " 83: array([ 8,  6, 10, ...,  3,  7,  4]),\n",
       " 84: array([ 6, 10,  2, ...,  7,  1,  3]),\n",
       " 85: array([1, 1, 5, ..., 3, 3, 6]),\n",
       " 86: array([2, 1, 7, ..., 2, 5, 3]),\n",
       " 87: array([4, 4, 5, ..., 3, 1, 3]),\n",
       " 88: array([ 9,  1,  2, ..., 10,  4,  9]),\n",
       " 89: array([ 9, 10,  8, ...,  1,  7,  3]),\n",
       " 90: array([5, 5, 9, ..., 6, 4, 5]),\n",
       " 91: array([3, 1, 2, ..., 1, 4, 9]),\n",
       " 92: array([2, 3, 7, ..., 3, 4, 8]),\n",
       " 93: array([ 2,  8, 10, ...,  6,  4,  1]),\n",
       " 94: array([1, 9, 3, ..., 4, 5, 6]),\n",
       " 95: array([ 1, 10,  3, ...,  4,  6,  8]),\n",
       " 96: array([9, 5, 1, ..., 8, 2, 4]),\n",
       " 97: array([3, 1, 4, ..., 9, 8, 6]),\n",
       " 98: array([2, 4, 1, ..., 5, 2, 9]),\n",
       " 99: array([ 1,  3,  4, ...,  3,  2, 10]),\n",
       " 100: array([9, 7, 3, ..., 4, 2, 3])}"
      ]
     },
     "execution_count": 75,
     "metadata": {},
     "output_type": "execute_result"
    }
   ],
   "source": [
    "chrom_"
   ]
  },
  {
   "cell_type": "code",
   "execution_count": 76,
   "metadata": {
    "collapsed": true
   },
   "outputs": [],
   "source": [
    "with h5py.File('output/random_select/10000*100snp') as f:\n",
    "    for i in range(1):\n",
    "        f.create_group(str(i))\n",
    "        f.create_dataset(str(i)+'/X',data = X[i+1])\n",
    "        f.create_dataset(str(i)+'/chrom',data = chrom_[i+1])\n",
    "        f.create_dataset(str(i)+'/position',data = position_[i+1])"
   ]
  },
  {
   "cell_type": "code",
   "execution_count": null,
   "metadata": {
    "collapsed": true
   },
   "outputs": [],
   "source": [
    "t = h5py.File('/home/chenxupeng/projects/emaize/output/random_select/10000*100snp')"
   ]
  },
  {
   "cell_type": "code",
   "execution_count": null,
   "metadata": {
    "collapsed": true
   },
   "outputs": [],
   "source": [
    "t"
   ]
  },
  {
   "cell_type": "code",
   "execution_count": 124,
   "metadata": {},
   "outputs": [
    {
     "name": "stdout",
     "output_type": "stream",
     "text": [
      "(10000,)\n",
      "(10000,)\n"
     ]
    }
   ],
   "source": [
    "print t['99/chrom'][:].shape\n",
    "print t['99/position'][:].shape"
   ]
  },
  {
   "cell_type": "code",
   "execution_count": null,
   "metadata": {
    "collapsed": true
   },
   "outputs": [],
   "source": []
  }
 ],
 "metadata": {
  "kernelspec": {
   "display_name": "Python [default]",
   "language": "python",
   "name": "python2"
  },
  "language_info": {
   "codemirror_mode": {
    "name": "ipython",
    "version": 2
   },
   "file_extension": ".py",
   "mimetype": "text/x-python",
   "name": "python",
   "nbconvert_exporter": "python",
   "pygments_lexer": "ipython2",
   "version": "2.7.13"
  }
 },
 "nbformat": 4,
 "nbformat_minor": 2
}
