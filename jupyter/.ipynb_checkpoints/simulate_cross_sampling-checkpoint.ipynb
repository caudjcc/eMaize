{
 "cells": [
  {
   "cell_type": "code",
   "execution_count": 1,
   "metadata": {},
   "outputs": [],
   "source": [
    "import pandas as pd\n",
    "import numpy as np\n",
    "import h5py"
   ]
  },
  {
   "cell_type": "code",
   "execution_count": 14,
   "metadata": {},
   "outputs": [
    {
     "name": "stdout",
     "output_type": "stream",
     "text": [
      "Populating the interactive namespace from numpy and matplotlib\n"
     ]
    },
    {
     "name": "stderr",
     "output_type": "stream",
     "text": [
      "/home/chenxupeng/apps/anaconda2/lib/python2.7/site-packages/IPython/core/magics/pylab.py:161: UserWarning: pylab import has clobbered these variables: ['table', 'random']\n",
      "`%matplotlib` prevents importing * from pylab and numpy\n",
      "  \"\\n`%matplotlib` prevents importing * from pylab and numpy\"\n"
     ]
    }
   ],
   "source": [
    "%pylab inline"
   ]
  },
  {
   "cell_type": "code",
   "execution_count": 2,
   "metadata": {},
   "outputs": [
    {
     "name": "stdout",
     "output_type": "stream",
     "text": [
      "/home/chenxupeng/projects/emaize\n"
     ]
    }
   ],
   "source": [
    "cd /home/chenxupeng/projects/emaize/"
   ]
  },
  {
   "cell_type": "code",
   "execution_count": 3,
   "metadata": {},
   "outputs": [],
   "source": [
    "phenotypes = pd.read_table('pheno_emaize.txt')\n",
    "pedigree = phenotypes['pedigree'].str.split('_', expand=True)\n",
    "pedigree.columns = ['f', 'X', 'm']\n",
    "phenotypes = pd.concat([phenotypes, pedigree], axis=1)\n",
    "phenotypes['number'] = np.arange(phenotypes.shape[0])\n",
    "parent_table = phenotypes.pivot_table(values='number', index=['m'], columns=['f'], dropna=False)\n",
    "male_ids = ['m%d' % i for i in range(1, parent_table.shape[0] + 1)]\n",
    "female_ids = ['f%d' % i for i in range(1, parent_table.shape[1] + 1)]\n",
    "parent_table = parent_table.loc[male_ids, female_ids]"
   ]
  },
  {
   "cell_type": "code",
   "execution_count": 4,
   "metadata": {},
   "outputs": [],
   "source": [
    "#parent_table"
   ]
  },
  {
   "cell_type": "code",
   "execution_count": 20,
   "metadata": {},
   "outputs": [
    {
     "name": "stderr",
     "output_type": "stream",
     "text": [
      "/home/chenxupeng/apps/anaconda2/lib/python2.7/site-packages/ipykernel_launcher.py:2: DeprecationWarning: unorderable dtypes; returning scalar but in the future this will be an error\n",
      "  \n"
     ]
    }
   ],
   "source": [
    "table = np.array(parent_table)[:25,:190].astype('S')\n",
    "table[np.where(table >4750)] = 10000\n",
    "for i in range(4750):\n",
    "    table = table.flatten()\n",
    "    if len(table[i]) <4:\n",
    "        table[i] = (4 - len(table[i]))*'0'+table[i]\n",
    "table = table.reshape(25,190)\n",
    "table = np.core.defchararray.add('L',table)"
   ]
  },
  {
   "cell_type": "code",
   "execution_count": 22,
   "metadata": {},
   "outputs": [],
   "source": [
    "def random():\n",
    "    row = np.arange(0,25)\n",
    "    column = np.arange(0,190)\n",
    "    row = np.random.choice(row,5,replace=False)\n",
    "    column = np.random.choice(column,5,replace=False)\n",
    "    row_index = table[row,:]\n",
    "    col_index = table[:,column]\n",
    "    \n",
    "    s0 = np.intersect1d(row_index,col_index)\n",
    "    s0 = s0[np.where(s0 != 'L10000')]\n",
    "    total = np.union1d(row_index.flatten(),col_index.flatten())\n",
    "    total = total[np.where(total != 'L10000')]\n",
    "    s1f = np.setdiff1d(row_index,s0)\n",
    "    s1f = s1f[np.where(s1f != 'L10000')]\n",
    "    s1m= np.setdiff1d(col_index,s0)\n",
    "    s1m = s1m[np.where(s1m != 'L10000')]\n",
    "    train = np.setdiff1d(table,total)\n",
    "    train = train[np.where(train != 'L10000')]\n",
    "    return total,s1f,s1m,s0,train,row_index,col_index,row,column"
   ]
  },
  {
   "cell_type": "code",
   "execution_count": 23,
   "metadata": {},
   "outputs": [],
   "source": [
    "a1,a2,a3,a4,a5,a6,a7,a8,a9 = random()"
   ]
  },
  {
   "cell_type": "code",
   "execution_count": 24,
   "metadata": {},
   "outputs": [
    {
     "data": {
      "text/plain": [
       "<matplotlib.image.AxesImage at 0x7f9226c190d0>"
      ]
     },
     "execution_count": 24,
     "metadata": {},
     "output_type": "execute_result"
    },
    {
     "data": {
      "image/png": "[encoded data removed]",
      "text/plain": [
       "<matplotlib.figure.Figure at 0x7f9226d57910>"
      ]
     },
     "metadata": {},
     "output_type": "display_data"
    }
   ],
   "source": [
    "fig, ax = plt.subplots(5, figsize=(40,20))\n",
    "ax[0].matshow(np.isin(table,a1))\n",
    "ax[1].matshow(np.isin(table,a2))\n",
    "ax[2].matshow(np.isin(table,a3))\n",
    "ax[3].matshow(np.isin(table,a4))\n",
    "ax[4].matshow(np.isin(table,a5))"
   ]
  },
  {
   "cell_type": "markdown",
   "metadata": {},
   "source": [
    "total_ = np.array([]).astype('S')\n",
    "s1f_ = np.array([]).astype('S')\n",
    "s1m_=np.array([]).astype('S')\n",
    "s0_ = np.zeros([]).astype('S')\n",
    "train_ = np.array([]).astype('S')\n",
    "with h5py.File('cross_sampling1') as f:\n",
    "    for i in range(1000):\n",
    "        a1,a2,a3,a4,a5,a6,a7,a8,a9 = random()\n",
    "        f.create_dataset(str(i)+'/test',data = a1)\n",
    "        f.create_dataset(str(i)+'/s1f',data = a2)\n",
    "        f.create_dataset(str(i)+'/s1m',data = a3)\n",
    "        f.create_dataset(str(i)+'/s0',data = a4)\n",
    "        f.create_dataset(str(i)+'/train',data = a5)\n",
    "        f.create_dataset(str(i)+'/row_ind',data = a6)\n",
    "        f.create_dataset(str(i)+'/col_ind',data = a7)\n",
    "        f.create_dataset(str(i)+'/row',data = a8)\n",
    "        f.create_dataset(str(i)+'/col',data = a9)\n",
    "phenotypes = pd.read_table('/Share/home/xulongchen/emaize/test/emaize_data/phenotype/pheno_emaize.txt')\n",
    "phenotypes.index = phenotypes['id']\n",
    "\n",
    "count = 0\n",
    "with h5py.File('/Share/home/chenxupeng/projects/emaize/cross_sampling') as f:\n",
    "    train_names = f['train'][:][count]\n",
    "    test_names = f['test'][:][count]\n",
    "    test_names_s1f = f['s1f'][:][count]\n",
    "    test_names_s1m = f['s1m'][:][count]\n",
    "    test_names_s0 = f['s0'][:][count]\n",
    "\n",
    "#with open('/Share/home/xulongchen/emaize/test/data/sample_names.predict.txt') as f:    \n",
    "predict_names = f.read().strip().split()\n",
    "\n",
    "X_train = genotypes.take(np.nonzero(phenotypes['id'].isin(train_names).values)[0], axis=0)\n",
    "X_test = genotypes.take(np.nonzero(phenotypes['id'].isin(test_names).values)[0], axis=0)\n",
    "X_test_fm = genotypes.take(np.nonzero(phenotypes['id'].isin(test_names_s0).values)[0], axis=0)\n",
    "X_test_f = genotypes.take(np.nonzero(phenotypes['id'].isin(test_names_s1m).values)[0], axis=0)\n",
    "X_test_m = genotypes.take(np.nonzero(phenotypes['id'].isin(test_names_s1f).values)[0], axis=0)\n",
    "#X_predict = genotypes.take(np.nonzero(phenotypes['id'].isin(predict_names).values)[0], axis=0)\n",
    "\n",
    "\n",
    "test_names_f= test_names_s1m\n",
    "test_names_m=test_names_s1f\n",
    "test_names_fm =test_names_s0\n",
    "traits = ['trait1','trait2','trait3']\n",
    "ys_train = {}\n",
    "ys_test = {}\n",
    "ys_test_fm = {}\n",
    "ys_test_f = {}\n",
    "ys_test_m = {}\n",
    "#y_predict ={}\n",
    "for trait in traits:\n",
    "    ys_train[trait] = y[trait].take(np.nonzero(phenotypes['id'].isin(train_names).values)[0], axis=0)\n",
    "    ys_test[trait] = y[trait].take(np.nonzero(phenotypes['id'].isin(test_names).values)[0], axis=0)\n",
    "    ys_test_fm[trait] = y[trait].take(np.nonzero(phenotypes['id'].isin(test_names_fm).values)[0], axis=0)\n",
    "    ys_test_f[trait] = y[trait].take(np.nonzero(phenotypes['id'].isin(test_names_f).values)[0], axis=0)\n",
    "    ys_test_m[trait] = y[trait].take(np.nonzero(phenotypes['id'].isin(test_names_m).values)[0], axis=0)"
   ]
  },
  {
   "cell_type": "code",
   "execution_count": 33,
   "metadata": {},
   "outputs": [],
   "source": [
    "f = h5py.File('cross_sampling1')"
   ]
  },
  {
   "cell_type": "code",
   "execution_count": 25,
   "metadata": {},
   "outputs": [],
   "source": [
    "import pickle\n",
    "def table_(x):\n",
    "    with open('/home/chenxupeng/projects/emaize/new_cv/'+str(x)+'/r2_pcc_dict/gpr.dct','rb') as fi:\n",
    "        d = pickle.load(fi)\n",
    "\n",
    "    c = {}\n",
    "    traits = ['trait1','trait2','trait3']\n",
    "    keys = ['pcc_test_fm','pcc_test_f','pcc_test_m','pcc_test','pcc_train']\n",
    "#models = ['lr','xgbr','ridge','kr','knr','rfr','gpr']\n",
    "    models = ['gpr']\n",
    "    for trait in traits:\n",
    "        c[trait] = {}\n",
    "    for key in keys:\n",
    "        for trait in traits:\n",
    "            c[trait][key] = {}\n",
    "    for model in models:\n",
    "        for trait in traits:\n",
    "            for key in keys:\n",
    "                if key in ['pcc_test_fm','pcc_test_f','pcc_test_m','pcc_test','pcc_train']:\n",
    "                    c[trait][key][model] = d[model][trait][key][0]\n",
    "                else:\n",
    "                    c[trait][key][model] = d[model][trait][key]\n",
    "\n",
    "    m = pd.DataFrame.from_dict({(i,j): c[i][j] \n",
    "                           for i in c.keys() \n",
    "                           for j in c[i].keys()},\n",
    "                       orient='index')\n",
    "    return m"
   ]
  },
  {
   "cell_type": "code",
   "execution_count": 46,
   "metadata": {},
   "outputs": [
    {
     "ename": "IOError",
     "evalue": "[Errno 2] No such file or directory: '/home/chenxupeng/projects/emaize/new_cv/175/r2_pcc_dict/gpr.dct'",
     "output_type": "error",
     "traceback": [
      "\u001b[0;31m---------------------------------------------------------------------------\u001b[0m",
      "\u001b[0;31mIOError\u001b[0m                                   Traceback (most recent call last)",
      "\u001b[0;32m<ipython-input-46-8ebe4340038a>\u001b[0m in \u001b[0;36m<module>\u001b[0;34m()\u001b[0m\n\u001b[1;32m      3\u001b[0m \u001b[0msum3\u001b[0m \u001b[0;34m=\u001b[0m \u001b[0mnp\u001b[0m\u001b[0;34m.\u001b[0m\u001b[0marray\u001b[0m\u001b[0;34m(\u001b[0m\u001b[0;34m[\u001b[0m\u001b[0;34m]\u001b[0m\u001b[0;34m)\u001b[0m\u001b[0;34m\u001b[0m\u001b[0m\n\u001b[1;32m      4\u001b[0m \u001b[0;32mfor\u001b[0m \u001b[0mi\u001b[0m \u001b[0;32min\u001b[0m \u001b[0mrange\u001b[0m\u001b[0;34m(\u001b[0m\u001b[0;36m200\u001b[0m\u001b[0;34m)\u001b[0m\u001b[0;34m:\u001b[0m\u001b[0;34m\u001b[0m\u001b[0m\n\u001b[0;32m----> 5\u001b[0;31m     \u001b[0msum1\u001b[0m\u001b[0;34m=\u001b[0m \u001b[0mnp\u001b[0m\u001b[0;34m.\u001b[0m\u001b[0mconcatenate\u001b[0m\u001b[0;34m(\u001b[0m\u001b[0;34m(\u001b[0m\u001b[0msum1\u001b[0m\u001b[0;34m,\u001b[0m\u001b[0mtable_\u001b[0m\u001b[0;34m(\u001b[0m\u001b[0mi\u001b[0m\u001b[0;34m)\u001b[0m\u001b[0;34m.\u001b[0m\u001b[0miloc\u001b[0m\u001b[0;34m[\u001b[0m\u001b[0;36m0\u001b[0m\u001b[0;34m]\u001b[0m\u001b[0;34m)\u001b[0m\u001b[0;34m)\u001b[0m\u001b[0;34m\u001b[0m\u001b[0m\n\u001b[0m\u001b[1;32m      6\u001b[0m     \u001b[0msum2\u001b[0m \u001b[0;34m=\u001b[0m\u001b[0mnp\u001b[0m\u001b[0;34m.\u001b[0m\u001b[0mconcatenate\u001b[0m\u001b[0;34m(\u001b[0m\u001b[0;34m(\u001b[0m\u001b[0msum2\u001b[0m\u001b[0;34m,\u001b[0m\u001b[0mtable_\u001b[0m\u001b[0;34m(\u001b[0m\u001b[0mi\u001b[0m\u001b[0;34m)\u001b[0m\u001b[0;34m.\u001b[0m\u001b[0miloc\u001b[0m\u001b[0;34m[\u001b[0m\u001b[0;36m5\u001b[0m\u001b[0;34m]\u001b[0m\u001b[0;34m)\u001b[0m\u001b[0;34m)\u001b[0m\u001b[0;34m\u001b[0m\u001b[0m\n\u001b[1;32m      7\u001b[0m     \u001b[0msum3\u001b[0m\u001b[0;34m=\u001b[0m\u001b[0mnp\u001b[0m\u001b[0;34m.\u001b[0m\u001b[0mconcatenate\u001b[0m\u001b[0;34m(\u001b[0m\u001b[0;34m(\u001b[0m\u001b[0msum3\u001b[0m\u001b[0;34m,\u001b[0m\u001b[0mtable_\u001b[0m\u001b[0;34m(\u001b[0m\u001b[0mi\u001b[0m\u001b[0;34m)\u001b[0m\u001b[0;34m.\u001b[0m\u001b[0miloc\u001b[0m\u001b[0;34m[\u001b[0m\u001b[0;36m10\u001b[0m\u001b[0;34m]\u001b[0m\u001b[0;34m)\u001b[0m\u001b[0;34m)\u001b[0m\u001b[0;34m\u001b[0m\u001b[0m\n",
      "\u001b[0;32m<ipython-input-25-d71d845f7a8d>\u001b[0m in \u001b[0;36mtable_\u001b[0;34m(x)\u001b[0m\n\u001b[1;32m      1\u001b[0m \u001b[0;32mimport\u001b[0m \u001b[0mpickle\u001b[0m\u001b[0;34m\u001b[0m\u001b[0m\n\u001b[1;32m      2\u001b[0m \u001b[0;32mdef\u001b[0m \u001b[0mtable_\u001b[0m\u001b[0;34m(\u001b[0m\u001b[0mx\u001b[0m\u001b[0;34m)\u001b[0m\u001b[0;34m:\u001b[0m\u001b[0;34m\u001b[0m\u001b[0m\n\u001b[0;32m----> 3\u001b[0;31m     \u001b[0;32mwith\u001b[0m \u001b[0mopen\u001b[0m\u001b[0;34m(\u001b[0m\u001b[0;34m'/home/chenxupeng/projects/emaize/new_cv/'\u001b[0m\u001b[0;34m+\u001b[0m\u001b[0mstr\u001b[0m\u001b[0;34m(\u001b[0m\u001b[0mx\u001b[0m\u001b[0;34m)\u001b[0m\u001b[0;34m+\u001b[0m\u001b[0;34m'/r2_pcc_dict/gpr.dct'\u001b[0m\u001b[0;34m,\u001b[0m\u001b[0;34m'rb'\u001b[0m\u001b[0;34m)\u001b[0m \u001b[0;32mas\u001b[0m \u001b[0mfi\u001b[0m\u001b[0;34m:\u001b[0m\u001b[0;34m\u001b[0m\u001b[0m\n\u001b[0m\u001b[1;32m      4\u001b[0m         \u001b[0md\u001b[0m \u001b[0;34m=\u001b[0m \u001b[0mpickle\u001b[0m\u001b[0;34m.\u001b[0m\u001b[0mload\u001b[0m\u001b[0;34m(\u001b[0m\u001b[0mfi\u001b[0m\u001b[0;34m)\u001b[0m\u001b[0;34m\u001b[0m\u001b[0m\n\u001b[1;32m      5\u001b[0m \u001b[0;34m\u001b[0m\u001b[0m\n",
      "\u001b[0;31mIOError\u001b[0m: [Errno 2] No such file or directory: '/home/chenxupeng/projects/emaize/new_cv/175/r2_pcc_dict/gpr.dct'"
     ]
    }
   ],
   "source": [
    "sum1 = np.array([])\n",
    "sum2 = np.array([])\n",
    "sum3 = np.array([])\n",
    "for i in range(200):\n",
    "    sum1= np.concatenate((sum1,table_(i).iloc[0]))\n",
    "    sum2 =np.concatenate((sum2,table_(i).iloc[5]))\n",
    "    sum3=np.concatenate((sum3,table_(i).iloc[10]))"
   ]
  },
  {
   "cell_type": "code",
   "execution_count": 43,
   "metadata": {},
   "outputs": [
    {
     "data": {
      "text/plain": [
       "(array([ 1.,  1.,  0.,  1.,  3.,  0.,  1.,  1.,  0.,  3.,  2.,  3.,  4.,\n",
       "         3.,  7.,  3.,  4.,  3.,  5.,  3.,  4.,  4.,  8.,  5.,  2.,  4.,\n",
       "         5.,  5.,  5.,  9.,  6.,  7.,  6.,  9.,  5.,  5.,  2.,  6.,  3.,\n",
       "         2.,  7.,  2.,  6.,  1.,  2.,  1.,  0.,  3.,  0.,  2.]),\n",
       " array([ 0.44030383,  0.44745616,  0.4546085 ,  0.46176084,  0.46891318,\n",
       "         0.47606551,  0.48321785,  0.49037019,  0.49752252,  0.50467486,\n",
       "         0.5118272 ,  0.51897953,  0.52613187,  0.53328421,  0.54043654,\n",
       "         0.54758888,  0.55474122,  0.56189356,  0.56904589,  0.57619823,\n",
       "         0.58335057,  0.5905029 ,  0.59765524,  0.60480758,  0.61195991,\n",
       "         0.61911225,  0.62626459,  0.63341692,  0.64056926,  0.6477216 ,\n",
       "         0.65487394,  0.66202627,  0.66917861,  0.67633095,  0.68348328,\n",
       "         0.69063562,  0.69778796,  0.70494029,  0.71209263,  0.71924497,\n",
       "         0.7263973 ,  0.73354964,  0.74070198,  0.74785432,  0.75500665,\n",
       "         0.76215899,  0.76931133,  0.77646366,  0.783616  ,  0.79076834,\n",
       "         0.79792067]),\n",
       " <a list of 50 Patch objects>)"
      ]
     },
     "execution_count": 43,
     "metadata": {},
     "output_type": "execute_result"
    },
    {
     "data": {
      "image/png": "[encoded data removed]",
      "text/plain": [
       "<matplotlib.figure.Figure at 0x7f9226dd30d0>"
      ]
     },
     "metadata": {},
     "output_type": "display_data"
    }
   ],
   "source": [
    "fig, ax = plt.subplots(3, figsize=(5,10))\n",
    "ax[0].hist(sum1,bins = 50)\n",
    "ax[1].hist(sum2,bins = 50)\n",
    "ax[2].hist(sum3,bins = 50)"
   ]
  },
  {
   "cell_type": "code",
   "execution_count": 44,
   "metadata": {},
   "outputs": [
    {
     "name": "stdout",
     "output_type": "stream",
     "text": [
      "0.809561941755\n",
      "0.766791662589\n",
      "0.633679328785\n"
     ]
    }
   ],
   "source": [
    "print np.average(sum1)\n",
    "print np.average(sum2)\n",
    "print np.average(sum3)"
   ]
  },
  {
   "cell_type": "code",
   "execution_count": 35,
   "metadata": {},
   "outputs": [],
   "source": [
    "#调用一次，计算其中一个性状 一折中出现过得sample的pcc  然后多折相加即可\n",
    "def calculate_sample_pcc(trait,i):\n",
    "    namess = table.flatten()\n",
    "    count = np.zeros([4750,])\n",
    "    pcc= np.zeros([4750,])\n",
    "    pcc[np.isin(namess,f[str(i)+'/s1f'][:])] = table_(i)['gpr'][trait]['pcc_test_m']\n",
    "    pcc[np.isin(namess,f[str(i)+'/s1m'][:])] = table_(i)['gpr'][trait]['pcc_test_f']\n",
    "    pcc[np.isin(namess,f[str(i)+'/s0'][:])] = table_(i)['gpr'][trait]['pcc_test_fm']\n",
    "    count[np.isin(namess,f[str(i)+'/test'][:])] = 1\n",
    "    return pcc,count"
   ]
  },
  {
   "cell_type": "code",
   "execution_count": 36,
   "metadata": {},
   "outputs": [],
   "source": [
    "count_trait1 = np.zeros([4750,])\n",
    "pcc_trait1 = np.zeros([4750,])\n",
    "for i in range(100):\n",
    "    pcc,count = calculate_sample_pcc('trait1',i)\n",
    "    count_trait1 +=count\n",
    "    pcc_trait1+=pcc"
   ]
  },
  {
   "cell_type": "code",
   "execution_count": 37,
   "metadata": {},
   "outputs": [],
   "source": [
    "pcc_trait1_ave = np.zeros([4750,])\n",
    "pcc_trait1_ave[np.where(count_trait1 !=0)] = pcc_trait1[np.where(count_trait1 !=0)] / count_trait1[np.where(count_trait1 !=0)]\n",
    "pcc_trait1_ave[np.where(count_trait1 ==0)] = np.nan"
   ]
  },
  {
   "cell_type": "code",
   "execution_count": 40,
   "metadata": {},
   "outputs": [
    {
     "data": {
      "text/plain": [
       "(array([   2.,    2.,    5.,    4.,    7.,   20.,   12.,   22.,   24.,\n",
       "          24.,   28.,   17.,   30.,   19.,   26.,   59.,   43.,   56.,\n",
       "         128.,  125.,  143.,  147.,  222.,  147.,  252.,  218.,  240.,\n",
       "         174.,  157.,   93.,   85.,  107.,  135.,  165.,  195.,  175.,\n",
       "         173.,  174.,  196.,  200.,  151.,  120.,   78.,   27.,   13.,\n",
       "          10.,   34.,   75.,   49.,   13.]),\n",
       " array([ 0.67549526,  0.67965212,  0.68380897,  0.68796582,  0.69212267,\n",
       "         0.69627952,  0.70043638,  0.70459323,  0.70875008,  0.71290693,\n",
       "         0.71706378,  0.72122064,  0.72537749,  0.72953434,  0.73369119,\n",
       "         0.73784805,  0.7420049 ,  0.74616175,  0.7503186 ,  0.75447545,\n",
       "         0.75863231,  0.76278916,  0.76694601,  0.77110286,  0.77525972,\n",
       "         0.77941657,  0.78357342,  0.78773027,  0.79188712,  0.79604398,\n",
       "         0.80020083,  0.80435768,  0.80851453,  0.81267139,  0.81682824,\n",
       "         0.82098509,  0.82514194,  0.82929879,  0.83345565,  0.8376125 ,\n",
       "         0.84176935,  0.8459262 ,  0.85008306,  0.85423991,  0.85839676,\n",
       "         0.86255361,  0.86671046,  0.87086732,  0.87502417,  0.87918102,\n",
       "         0.88333787]),\n",
       " <a list of 50 Patch objects>)"
      ]
     },
     "execution_count": 40,
     "metadata": {},
     "output_type": "execute_result"
    },
    {
     "data": {
      "image/png": "[encoded data removed]",
      "text/plain": [
       "<matplotlib.figure.Figure at 0x7f9226e2d2d0>"
      ]
     },
     "metadata": {},
     "output_type": "display_data"
    }
   ],
   "source": [
    "hist(pcc_trait1_ave[np.isnan(pcc_trait1_ave) == 0],bins = 50)"
   ]
  },
  {
   "cell_type": "code",
   "execution_count": null,
   "metadata": {},
   "outputs": [],
   "source": [
    "def normalize_phenotype(x, range_pheno=4.0):\n",
    "    return (np.clip(x, -range_pheno, range_pheno) + range_pheno)/2.0/range_pheno\n",
    "for trait in traits:\n",
    "    pred_matrix = np.full(phenotypes.shape[0], np.nan)\n",
    "    pred_matrix[index_test] = np.ravel(normalize_phenotype(y_mean[trait].val))\n",
    "    pred_matrix = np.take(pred_matrix, parent_table)\n",
    "\n",
    "    fig, ax = subplots(2, 1, figsize=(16, 6))\n",
    "    ax[0].matshow(np.take(np.ravel(normalize_phenotype(phenotypes[trait].values)), parent_table), cmap=cm.RdBu_r)\n",
    "    ax[0].set_title('Phenotypes of training data (%s)'%trait)\n",
    "\n",
    "    ax[1].matshow(pred_matrix, cmap=cm.RdBu_r)\n",
    "    ax[1].set_title('Prediction on test data (%s)'%trait)"
   ]
  }
 ],
 "metadata": {
  "anaconda-cloud": {},
  "kernelspec": {
   "display_name": "Python 2",
   "language": "python",
   "name": "python2"
  },
  "language_info": {
   "codemirror_mode": {
    "name": "ipython",
    "version": 2
   },
   "file_extension": ".py",
   "mimetype": "text/x-python",
   "name": "python",
   "nbconvert_exporter": "python",
   "pygments_lexer": "ipython2",
   "version": "2.7.14"
  }
 },
 "nbformat": 4,
 "nbformat_minor": 2
}
